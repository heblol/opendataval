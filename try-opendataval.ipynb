{
 "cells": [
  {
   "cell_type": "markdown",
   "metadata": {},
   "source": [
    "# Example notebook to try out opendataval\n",
    "\n",
    "Here are the 4 interacting parts of opendataval\n",
    "1. `DataFetecher`, Loads data and holds meta data regarding splits\n",
    "2. `Model`, trainable prediction model.\n",
    "3. `DataEvaluator`, measures the data values of input data point for a specified model.\n",
    "4. `ExperimentMediator`, facilitates experiments regarding data values across several `DataEvaluators`"
   ]
  },
  {
   "cell_type": "code",
   "execution_count": 1,
   "metadata": {},
   "outputs": [
    {
     "name": "stdout",
     "output_type": "stream",
     "text": [
      "Python 3.9.0\n"
     ]
    }
   ],
   "source": [
    "!python -V"
   ]
  },
  {
   "cell_type": "code",
   "execution_count": 2,
   "metadata": {},
   "outputs": [
    {
     "name": "stderr",
     "output_type": "stream",
     "text": [
      "/Users/koen/opt/anaconda3/envs/opendataval/lib/python3.9/site-packages/tqdm/auto.py:21: TqdmWarning: IProgress not found. Please update jupyter and ipywidgets. See https://ipywidgets.readthedocs.io/en/stable/user_install.html\n",
      "  from .autonotebook import tqdm as notebook_tqdm\n"
     ]
    },
    {
     "ename": "TypeError",
     "evalue": "Callable[[arg, ...], result]: each arg must be a type. Got Ellipsis.",
     "output_type": "error",
     "traceback": [
      "\u001b[0;31m---------------------------------------------------------------------------\u001b[0m",
      "\u001b[0;31mTypeError\u001b[0m                                 Traceback (most recent call last)",
      "\u001b[1;32m/Users/koen/stack/computer-science-delft/master-ai-thesis/opendataval/try-opendataval.ipynb Cell 3\u001b[0m line \u001b[0;36m2\n\u001b[1;32m      <a href='vscode-notebook-cell:/Users/koen/stack/computer-science-delft/master-ai-thesis/opendataval/try-opendataval.ipynb#W2sZmlsZQ%3D%3D?line=0'>1</a>\u001b[0m \u001b[39m# Create a Fetcher\u001b[39;00m\n\u001b[0;32m----> <a href='vscode-notebook-cell:/Users/koen/stack/computer-science-delft/master-ai-thesis/opendataval/try-opendataval.ipynb#W2sZmlsZQ%3D%3D?line=1'>2</a>\u001b[0m \u001b[39mfrom\u001b[39;00m \u001b[39mopendataval\u001b[39;00m\u001b[39m.\u001b[39;00m\u001b[39mdataloader\u001b[39;00m \u001b[39mimport\u001b[39;00m DataFetcher\n\u001b[1;32m      <a href='vscode-notebook-cell:/Users/koen/stack/computer-science-delft/master-ai-thesis/opendataval/try-opendataval.ipynb#W2sZmlsZQ%3D%3D?line=3'>4</a>\u001b[0m \u001b[39m# print(\"testing this\")\u001b[39;00m\n\u001b[1;32m      <a href='vscode-notebook-cell:/Users/koen/stack/computer-science-delft/master-ai-thesis/opendataval/try-opendataval.ipynb#W2sZmlsZQ%3D%3D?line=4'>5</a>\u001b[0m \u001b[39m# DataFetcher.datasets_available()  # ['dataset_name1', 'dataset_name2']\u001b[39;00m\n\u001b[1;32m      <a href='vscode-notebook-cell:/Users/koen/stack/computer-science-delft/master-ai-thesis/opendataval/try-opendataval.ipynb#W2sZmlsZQ%3D%3D?line=5'>6</a>\u001b[0m \n\u001b[0;32m   (...)\u001b[0m\n\u001b[1;32m     <a href='vscode-notebook-cell:/Users/koen/stack/computer-science-delft/master-ai-thesis/opendataval/try-opendataval.ipynb#W2sZmlsZQ%3D%3D?line=15'>16</a>\u001b[0m \n\u001b[1;32m     <a href='vscode-notebook-cell:/Users/koen/stack/computer-science-delft/master-ai-thesis/opendataval/try-opendataval.ipynb#W2sZmlsZQ%3D%3D?line=16'>17</a>\u001b[0m \u001b[39m# x_train, y_train, x_valid, y_valid, x_test, y_test = fetcher.datapoints\u001b[39;00m\n",
      "File \u001b[0;32m~/stack/computer-science-delft/master-ai-thesis/opendataval/opendataval/dataloader/__init__.py:35\u001b[0m\n\u001b[1;32m     33\u001b[0m \u001b[39mfrom\u001b[39;00m \u001b[39mopendataval\u001b[39;00m\u001b[39m.\u001b[39;00m\u001b[39mdataloader\u001b[39;00m \u001b[39mimport\u001b[39;00m datasets\n\u001b[1;32m     34\u001b[0m \u001b[39mfrom\u001b[39;00m \u001b[39mopendataval\u001b[39;00m\u001b[39m.\u001b[39;00m\u001b[39mdataloader\u001b[39;00m\u001b[39m.\u001b[39;00m\u001b[39mfetcher\u001b[39;00m \u001b[39mimport\u001b[39;00m DataFetcher\n\u001b[0;32m---> 35\u001b[0m \u001b[39mfrom\u001b[39;00m \u001b[39mopendataval\u001b[39;00m\u001b[39m.\u001b[39;00m\u001b[39mdataloader\u001b[39;00m\u001b[39m.\u001b[39;00m\u001b[39mnoisify\u001b[39;00m \u001b[39mimport\u001b[39;00m NoiseFunc, add_gauss_noise, mix_labels\n\u001b[1;32m     36\u001b[0m \u001b[39mfrom\u001b[39;00m \u001b[39mopendataval\u001b[39;00m\u001b[39m.\u001b[39;00m\u001b[39mdataloader\u001b[39;00m\u001b[39m.\u001b[39;00m\u001b[39mregister\u001b[39;00m \u001b[39mimport\u001b[39;00m Register, cache, one_hot_encode\n\u001b[1;32m     37\u001b[0m \u001b[39mfrom\u001b[39;00m \u001b[39mopendataval\u001b[39;00m\u001b[39m.\u001b[39;00m\u001b[39mdataloader\u001b[39;00m\u001b[39m.\u001b[39;00m\u001b[39mutil\u001b[39;00m \u001b[39mimport\u001b[39;00m CatDataset\n",
      "File \u001b[0;32m~/stack/computer-science-delft/master-ai-thesis/opendataval/opendataval/dataloader/noisify.py:10\u001b[0m\n\u001b[1;32m      8\u001b[0m \u001b[39mfrom\u001b[39;00m \u001b[39mopendataval\u001b[39;00m\u001b[39m.\u001b[39;00m\u001b[39mdataloader\u001b[39;00m\u001b[39m.\u001b[39;00m\u001b[39mfetcher\u001b[39;00m \u001b[39mimport\u001b[39;00m DataFetcher\n\u001b[1;32m      9\u001b[0m \u001b[39mfrom\u001b[39;00m \u001b[39mopendataval\u001b[39;00m\u001b[39m.\u001b[39;00m\u001b[39mdataloader\u001b[39;00m\u001b[39m.\u001b[39;00m\u001b[39mutil\u001b[39;00m \u001b[39mimport\u001b[39;00m IndexTransformDataset\n\u001b[0;32m---> 10\u001b[0m \u001b[39mfrom\u001b[39;00m \u001b[39mopendataval\u001b[39;00m\u001b[39m.\u001b[39;00m\u001b[39mutil\u001b[39;00m \u001b[39mimport\u001b[39;00m FuncEnum\n\u001b[1;32m     13\u001b[0m \u001b[39mdef\u001b[39;00m \u001b[39mmix_labels\u001b[39m(fetcher: DataFetcher, noise_rate: \u001b[39mfloat\u001b[39m \u001b[39m=\u001b[39m \u001b[39m0.2\u001b[39m) \u001b[39m-\u001b[39m\u001b[39m>\u001b[39m \u001b[39mdict\u001b[39m[\u001b[39mstr\u001b[39m, np\u001b[39m.\u001b[39mndarray]:\n\u001b[1;32m     14\u001b[0m \u001b[39m    \u001b[39m\u001b[39m\"\"\"Mixes y_train labels of a DataFetcher, adding noise to data.\u001b[39;00m\n\u001b[1;32m     15\u001b[0m \n\u001b[1;32m     16\u001b[0m \u001b[39m    For a given set of unique labels, we shift the label forward up to n-1 steps. This\u001b[39;00m\n\u001b[0;32m   (...)\u001b[0m\n\u001b[1;32m     33\u001b[0m \u001b[39m        - **\"noisy_train_indices\"** -- Indices of training data set with mixed labels\u001b[39;00m\n\u001b[1;32m     34\u001b[0m \u001b[39m    \"\"\"\u001b[39;00m\n",
      "File \u001b[0;32m~/stack/computer-science-delft/master-ai-thesis/opendataval/opendataval/util.py:64\u001b[0m\n\u001b[1;32m     58\u001b[0m         \u001b[39mreturn\u001b[39;00m \u001b[39mf\u001b[39m\u001b[39m\"\u001b[39m\u001b[39m{\u001b[39;00m\u001b[39mself\u001b[39m\u001b[39m.\u001b[39m\u001b[39m__class__\u001b[39m\u001b[39m.\u001b[39m\u001b[39m__name__\u001b[39m\u001b[39m}\u001b[39;00m\u001b[39m(\u001b[39m\u001b[39m{\u001b[39;00m\u001b[39m'\u001b[39m\u001b[39m, \u001b[39m\u001b[39m'\u001b[39m\u001b[39m.\u001b[39mjoin(\u001b[39mself\u001b[39m\u001b[39m.\u001b[39m__inputs)\u001b[39m}\u001b[39;00m\u001b[39m)\u001b[39m\u001b[39m\"\u001b[39m\n\u001b[1;32m     61\u001b[0m X, Y \u001b[39m=\u001b[39m TypeVar(\u001b[39m\"\u001b[39m\u001b[39mX\u001b[39m\u001b[39m\"\u001b[39m), TypeVar(\u001b[39m\"\u001b[39m\u001b[39mY\u001b[39m\u001b[39m\"\u001b[39m)\n\u001b[0;32m---> 64\u001b[0m \u001b[39mclass\u001b[39;00m \u001b[39mwrapper\u001b[39;00m(\u001b[39mstr\u001b[39m, Generic[X, Y]):\n\u001b[1;32m     65\u001b[0m     \u001b[39mdef\u001b[39;00m \u001b[39m__new__\u001b[39m(\u001b[39mcls\u001b[39m, function: Callable[[X, \u001b[39m.\u001b[39m\u001b[39m.\u001b[39m\u001b[39m.\u001b[39m], Y], name: Optional[\u001b[39mstr\u001b[39m] \u001b[39m=\u001b[39m \u001b[39mNone\u001b[39;00m):\n\u001b[1;32m     66\u001b[0m \u001b[39m        \u001b[39m\u001b[39m\"\"\"Wrapper is a walks and talks like a str but can be called with the func.\"\"\"\u001b[39;00m\n",
      "File \u001b[0;32m~/stack/computer-science-delft/master-ai-thesis/opendataval/opendataval/util.py:65\u001b[0m, in \u001b[0;36mwrapper\u001b[0;34m()\u001b[0m\n\u001b[1;32m     64\u001b[0m \u001b[39mclass\u001b[39;00m \u001b[39mwrapper\u001b[39;00m(\u001b[39mstr\u001b[39m, Generic[X, Y]):\n\u001b[0;32m---> 65\u001b[0m     \u001b[39mdef\u001b[39;00m \u001b[39m__new__\u001b[39m(\u001b[39mcls\u001b[39m, function: Callable[[X, \u001b[39m.\u001b[39;49m\u001b[39m.\u001b[39;49m\u001b[39m.\u001b[39;49m], Y], name: Optional[\u001b[39mstr\u001b[39m] \u001b[39m=\u001b[39m \u001b[39mNone\u001b[39;00m):\n\u001b[1;32m     66\u001b[0m \u001b[39m        \u001b[39m\u001b[39m\"\"\"Wrapper is a walks and talks like a str but can be called with the func.\"\"\"\u001b[39;00m\n\u001b[1;32m     67\u001b[0m         out \u001b[39m=\u001b[39m \u001b[39mstr\u001b[39m\u001b[39m.\u001b[39m\u001b[39m__new__\u001b[39m(\u001b[39mcls\u001b[39m, function\u001b[39m.\u001b[39m\u001b[39m__name__\u001b[39m \u001b[39mif\u001b[39;00m name \u001b[39mis\u001b[39;00m \u001b[39mNone\u001b[39;00m \u001b[39melse\u001b[39;00m name)\n",
      "File \u001b[0;32m~/opt/anaconda3/envs/opendataval/lib/python3.9/typing.py:829\u001b[0m, in \u001b[0;36m_CallableType.__getitem__\u001b[0;34m(self, params)\u001b[0m\n\u001b[1;32m    826\u001b[0m         \u001b[39mraise\u001b[39;00m \u001b[39mTypeError\u001b[39;00m(\u001b[39mf\u001b[39m\u001b[39m\"\u001b[39m\u001b[39mCallable[args, result]: args must be a list.\u001b[39m\u001b[39m\"\u001b[39m\n\u001b[1;32m    827\u001b[0m                         \u001b[39mf\u001b[39m\u001b[39m\"\u001b[39m\u001b[39m Got \u001b[39m\u001b[39m{\u001b[39;00margs\u001b[39m}\u001b[39;00m\u001b[39m\"\u001b[39m)\n\u001b[1;32m    828\u001b[0m     params \u001b[39m=\u001b[39m (\u001b[39mtuple\u001b[39m(args), result)\n\u001b[0;32m--> 829\u001b[0m \u001b[39mreturn\u001b[39;00m \u001b[39mself\u001b[39;49m\u001b[39m.\u001b[39;49m__getitem_inner__(params)\n",
      "File \u001b[0;32m~/opt/anaconda3/envs/opendataval/lib/python3.9/typing.py:243\u001b[0m, in \u001b[0;36m_tp_cache.<locals>.inner\u001b[0;34m(*args, **kwds)\u001b[0m\n\u001b[1;32m    241\u001b[0m \u001b[39mexcept\u001b[39;00m \u001b[39mTypeError\u001b[39;00m:\n\u001b[1;32m    242\u001b[0m     \u001b[39mpass\u001b[39;00m  \u001b[39m# All real errors (not unhashable args) are raised below.\u001b[39;00m\n\u001b[0;32m--> 243\u001b[0m \u001b[39mreturn\u001b[39;00m func(\u001b[39m*\u001b[39;49margs, \u001b[39m*\u001b[39;49m\u001b[39m*\u001b[39;49mkwds)\n",
      "File \u001b[0;32m~/opt/anaconda3/envs/opendataval/lib/python3.9/typing.py:839\u001b[0m, in \u001b[0;36m_CallableType.__getitem_inner__\u001b[0;34m(self, params)\u001b[0m\n\u001b[1;32m    837\u001b[0m     \u001b[39mreturn\u001b[39;00m \u001b[39mself\u001b[39m\u001b[39m.\u001b[39mcopy_with((_TypingEllipsis, result))\n\u001b[1;32m    838\u001b[0m msg \u001b[39m=\u001b[39m \u001b[39m\"\u001b[39m\u001b[39mCallable[[arg, ...], result]: each arg must be a type.\u001b[39m\u001b[39m\"\u001b[39m\n\u001b[0;32m--> 839\u001b[0m args \u001b[39m=\u001b[39m \u001b[39mtuple\u001b[39;49m(_type_check(arg, msg) \u001b[39mfor\u001b[39;49;00m arg \u001b[39min\u001b[39;49;00m args)\n\u001b[1;32m    840\u001b[0m params \u001b[39m=\u001b[39m args \u001b[39m+\u001b[39m (result,)\n\u001b[1;32m    841\u001b[0m \u001b[39mreturn\u001b[39;00m \u001b[39mself\u001b[39m\u001b[39m.\u001b[39mcopy_with(params)\n",
      "File \u001b[0;32m~/opt/anaconda3/envs/opendataval/lib/python3.9/typing.py:839\u001b[0m, in \u001b[0;36m<genexpr>\u001b[0;34m(.0)\u001b[0m\n\u001b[1;32m    837\u001b[0m     \u001b[39mreturn\u001b[39;00m \u001b[39mself\u001b[39m\u001b[39m.\u001b[39mcopy_with((_TypingEllipsis, result))\n\u001b[1;32m    838\u001b[0m msg \u001b[39m=\u001b[39m \u001b[39m\"\u001b[39m\u001b[39mCallable[[arg, ...], result]: each arg must be a type.\u001b[39m\u001b[39m\"\u001b[39m\n\u001b[0;32m--> 839\u001b[0m args \u001b[39m=\u001b[39m \u001b[39mtuple\u001b[39m(_type_check(arg, msg) \u001b[39mfor\u001b[39;00m arg \u001b[39min\u001b[39;00m args)\n\u001b[1;32m    840\u001b[0m params \u001b[39m=\u001b[39m args \u001b[39m+\u001b[39m (result,)\n\u001b[1;32m    841\u001b[0m \u001b[39mreturn\u001b[39;00m \u001b[39mself\u001b[39m\u001b[39m.\u001b[39mcopy_with(params)\n",
      "File \u001b[0;32m~/opt/anaconda3/envs/opendataval/lib/python3.9/typing.py:151\u001b[0m, in \u001b[0;36m_type_check\u001b[0;34m(arg, msg, is_argument)\u001b[0m\n\u001b[1;32m    149\u001b[0m     \u001b[39mreturn\u001b[39;00m arg\n\u001b[1;32m    150\u001b[0m \u001b[39mif\u001b[39;00m \u001b[39mnot\u001b[39;00m \u001b[39mcallable\u001b[39m(arg):\n\u001b[0;32m--> 151\u001b[0m     \u001b[39mraise\u001b[39;00m \u001b[39mTypeError\u001b[39;00m(\u001b[39mf\u001b[39m\u001b[39m\"\u001b[39m\u001b[39m{\u001b[39;00mmsg\u001b[39m}\u001b[39;00m\u001b[39m Got \u001b[39m\u001b[39m{\u001b[39;00marg\u001b[39m!r:\u001b[39;00m\u001b[39m.100\u001b[39m\u001b[39m}\u001b[39;00m\u001b[39m.\u001b[39m\u001b[39m\"\u001b[39m)\n\u001b[1;32m    152\u001b[0m \u001b[39mreturn\u001b[39;00m arg\n",
      "\u001b[0;31mTypeError\u001b[0m: Callable[[arg, ...], result]: each arg must be a type. Got Ellipsis."
     ]
    }
   ],
   "source": [
    "# Create a Fetcher\n",
    "from opendataval.dataloader import DataFetcher\n",
    "\n",
    "# print(\"testing this\")\n",
    "# DataFetcher.datasets_available()  # ['dataset_name1', 'dataset_name2']\n",
    "\n",
    "# print(\"second line?\")\n",
    "# fetcher = DataFetcher(dataset_name='dataset_name1')\n",
    "\n",
    "# print('fetcher', fetcher)\n",
    "\n",
    "# fetcher = fetcher.split_dataset_by_count(70, 20, 10)\n",
    "\n",
    "# # Compared to the introduction, I do not want to add noise in the example.\n",
    "# # fetcher = fetcher.noisify(mix_labels, noise_rate=.1)\n",
    "\n",
    "# x_train, y_train, x_valid, y_valid, x_test, y_test = fetcher.datapoints"
   ]
  },
  {
   "cell_type": "code",
   "execution_count": null,
   "metadata": {},
   "outputs": [],
   "source": [
    "from opendataval.model import LogisticRegression\n",
    "\n",
    "model = LogisticRegression(input_dim, output_dim)\n",
    "\n",
    "model.fit(x, y)\n",
    "model.predict(x)\n"
   ]
  },
  {
   "cell_type": "code",
   "execution_count": null,
   "metadata": {},
   "outputs": [],
   "source": [
    "metric = "
   ]
  },
  {
   "cell_type": "code",
   "execution_count": null,
   "metadata": {},
   "outputs": [],
   "source": [
    "from opendataval.dataval.ame import AME\n",
    "\n",
    "dataval = (\n",
    "    AME(num_models=8000)\n",
    "    .train(fetcher=fetcher, pred_model=model, metric=metric)\n",
    ")\n",
    "\n",
    "data_values = dataval.data_values  # Cached values\n",
    "data_values = dataval.evaluate_data_values()  # Recomputed values"
   ]
  },
  {
   "cell_type": "code",
   "execution_count": null,
   "metadata": {},
   "outputs": [],
   "source": [
    "from pyexpat import model\n",
    "from opendataval.experiment import ExperimentMediator\n",
    "from opendataval.dataval. import DataShapley\n",
    "\n",
    "exper_med: ExperimentMediator = ExperimentMediator.model_factory_setup(\n",
    "    dataset_name='iris',\n",
    "    force_download=False,\n",
    "    train_count=100,\n",
    "    valid_count=50,\n",
    "    test_count=50,\n",
    "    model_name='ClassifierMLP',\n",
    "    train_kwargs={'epochs': 5, 'batch_size': 20},\n",
    ")\n",
    "\n",
    "\n",
    "\n",
    "dataval = DataShapley().train(\n",
    "    fetcher=fetcher,\n",
    "    pred_model=model,\n",
    "    metric=metric,\n",
    ")\n",
    "\n",
    "list_of_data_evaluators = [DataShapley()]  # Define evaluators here\n",
    "eval_med = exper_med.compute_data_values(list_of_data_evaluators)\n",
    "\n",
    "# Runs a discover the noisy data experiment for each DataEvaluator and plots\n",
    "data, fig = eval_med.plot(discover_corrupted_sample)\n",
    "\n",
    "# Runs non-plottable experiment\n",
    "data = eval_method.evaluate(noisy_detection)"
   ]
  }
 ],
 "metadata": {
  "kernelspec": {
   "display_name": "Python 3",
   "language": "python",
   "name": "python3"
  },
  "language_info": {
   "codemirror_mode": {
    "name": "ipython",
    "version": 3
   },
   "file_extension": ".py",
   "mimetype": "text/x-python",
   "name": "python",
   "nbconvert_exporter": "python",
   "pygments_lexer": "ipython3",
   "version": "3.9.0"
  }
 },
 "nbformat": 4,
 "nbformat_minor": 2
}
