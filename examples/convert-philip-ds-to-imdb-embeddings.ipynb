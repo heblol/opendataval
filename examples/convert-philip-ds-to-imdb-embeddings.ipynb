{
 "cells": [
  {
   "cell_type": "code",
   "execution_count": 27,
   "metadata": {},
   "outputs": [],
   "source": [
    "# Set the path to the opendataval folder.\n",
    "# It will now recognise all the imports correctly.\n",
    "import os \n",
    "os.chdir('/Users/koen/stack/computer-science-delft/master-ai-thesis/opendataval')"
   ]
  },
  {
   "cell_type": "code",
   "execution_count": 28,
   "metadata": {},
   "outputs": [],
   "source": [
    "import os\n",
    "import pandas as pd\n",
    "import numpy as np\n"
   ]
  },
  {
   "cell_type": "code",
   "execution_count": 29,
   "metadata": {},
   "outputs": [],
   "source": [
    "def import_csv(filename: str):\n",
    "    return pd.read_csv(filename)"
   ]
  },
  {
   "cell_type": "code",
   "execution_count": 30,
   "metadata": {},
   "outputs": [
    {
     "data": {
      "text/html": [
       "<div>\n",
       "<style scoped>\n",
       "    .dataframe tbody tr th:only-of-type {\n",
       "        vertical-align: middle;\n",
       "    }\n",
       "\n",
       "    .dataframe tbody tr th {\n",
       "        vertical-align: top;\n",
       "    }\n",
       "\n",
       "    .dataframe thead th {\n",
       "        text-align: right;\n",
       "    }\n",
       "</style>\n",
       "<table border=\"1\" class=\"dataframe\">\n",
       "  <thead>\n",
       "    <tr style=\"text-align: right;\">\n",
       "      <th></th>\n",
       "      <th>original_text</th>\n",
       "      <th>perturbed_text</th>\n",
       "      <th>original_score</th>\n",
       "      <th>perturbed_score</th>\n",
       "      <th>original_output</th>\n",
       "      <th>perturbed_output</th>\n",
       "      <th>ground_truth_output</th>\n",
       "      <th>num_queries</th>\n",
       "      <th>result_type</th>\n",
       "    </tr>\n",
       "  </thead>\n",
       "  <tbody>\n",
       "    <tr>\n",
       "      <th>0</th>\n",
       "      <td>Eddie Murphy and Richard Pryor team up in this...</td>\n",
       "      <td>Eddie Murphy and Richard Pryor team up in this...</td>\n",
       "      <td>0.002222</td>\n",
       "      <td>0.702690</td>\n",
       "      <td>0</td>\n",
       "      <td>1</td>\n",
       "      <td>0</td>\n",
       "      <td>90</td>\n",
       "      <td>Successful</td>\n",
       "    </tr>\n",
       "    <tr>\n",
       "      <th>1</th>\n",
       "      <td>I'm a big fan of Patricia Hodge and Mariam Mar...</td>\n",
       "      <td>I'm a big fan of Patricia Hodge and Mariam Mar...</td>\n",
       "      <td>0.002670</td>\n",
       "      <td>0.798640</td>\n",
       "      <td>0</td>\n",
       "      <td>1</td>\n",
       "      <td>0</td>\n",
       "      <td>131</td>\n",
       "      <td>Successful</td>\n",
       "    </tr>\n",
       "    <tr>\n",
       "      <th>2</th>\n",
       "      <td>Just to let everyone know, this is possibly th...</td>\n",
       "      <td>Just to let everyone know, this is possibly th...</td>\n",
       "      <td>0.003340</td>\n",
       "      <td>0.931049</td>\n",
       "      <td>0</td>\n",
       "      <td>1</td>\n",
       "      <td>0</td>\n",
       "      <td>40</td>\n",
       "      <td>Successful</td>\n",
       "    </tr>\n",
       "    <tr>\n",
       "      <th>3</th>\n",
       "      <td>\"Electra Glide in Blue\" is a slow moving B-fli...</td>\n",
       "      <td>\"Electra Glide in Blue\" is a slow moving B-fli...</td>\n",
       "      <td>0.002544</td>\n",
       "      <td>0.886638</td>\n",
       "      <td>0</td>\n",
       "      <td>1</td>\n",
       "      <td>0</td>\n",
       "      <td>48</td>\n",
       "      <td>Successful</td>\n",
       "    </tr>\n",
       "    <tr>\n",
       "      <th>4</th>\n",
       "      <td>I'm a huge Zack Allan fan and was [[disappoint...</td>\n",
       "      <td>I'm a huge Zack Allan fan and was [[disappoUnt...</td>\n",
       "      <td>0.003667</td>\n",
       "      <td>0.760442</td>\n",
       "      <td>0</td>\n",
       "      <td>1</td>\n",
       "      <td>0</td>\n",
       "      <td>74</td>\n",
       "      <td>Successful</td>\n",
       "    </tr>\n",
       "  </tbody>\n",
       "</table>\n",
       "</div>"
      ],
      "text/plain": [
       "                                       original_text  \\\n",
       "0  Eddie Murphy and Richard Pryor team up in this...   \n",
       "1  I'm a big fan of Patricia Hodge and Mariam Mar...   \n",
       "2  Just to let everyone know, this is possibly th...   \n",
       "3  \"Electra Glide in Blue\" is a slow moving B-fli...   \n",
       "4  I'm a huge Zack Allan fan and was [[disappoint...   \n",
       "\n",
       "                                      perturbed_text  original_score  \\\n",
       "0  Eddie Murphy and Richard Pryor team up in this...        0.002222   \n",
       "1  I'm a big fan of Patricia Hodge and Mariam Mar...        0.002670   \n",
       "2  Just to let everyone know, this is possibly th...        0.003340   \n",
       "3  \"Electra Glide in Blue\" is a slow moving B-fli...        0.002544   \n",
       "4  I'm a huge Zack Allan fan and was [[disappoUnt...        0.003667   \n",
       "\n",
       "   perturbed_score  original_output  perturbed_output  ground_truth_output  \\\n",
       "0         0.702690                0                 1                    0   \n",
       "1         0.798640                0                 1                    0   \n",
       "2         0.931049                0                 1                    0   \n",
       "3         0.886638                0                 1                    0   \n",
       "4         0.760442                0                 1                    0   \n",
       "\n",
       "   num_queries result_type  \n",
       "0           90  Successful  \n",
       "1          131  Successful  \n",
       "2           40  Successful  \n",
       "3           48  Successful  \n",
       "4           74  Successful  "
      ]
     },
     "execution_count": 30,
     "metadata": {},
     "output_type": "execute_result"
    }
   ],
   "source": [
    "# Import the dataset containing the synthetic generated UUs\n",
    "\n",
    "illuminatingUU = import_csv(\"data-imdb/uus-imdb-bert-original-dwb-uu.csv\")\n",
    "\n",
    "illuminatingUU.head()"
   ]
  },
  {
   "cell_type": "code",
   "execution_count": 31,
   "metadata": {},
   "outputs": [
    {
     "name": "stdout",
     "output_type": "stream",
     "text": [
      "                                      perturbed_text  original_output\n",
      "0  Eddie Murphy and Richard Pryor team up in this...                0\n",
      "1  I'm a big fan of Patricia Hodge and Mariam Mar...                0\n",
      "2  Just to let everyone know, this is possibly th...                0\n",
      "3  \"Electra Glide in Blue\" is a slow moving B-fli...                0\n",
      "4  I'm a huge Zack Allan fan and was [[disappoUnt...                0\n",
      "--------------------\n",
      "original_output\n",
      "0    1682\n",
      "Name: count, dtype: int64\n",
      "--------------------\n",
      "                                      perturbed_text  original_output\n",
      "0  Eddie Murphy and Richard Pryor team up in this...                0\n",
      "1  I'm a big fan of Patricia Hodge and Mariam Mar...                0\n",
      "2  Just to let everyone know, this is possibly th...                0\n",
      "3  \"Electra Glide in Blue\" is a slow moving B-fli...                0\n",
      "4  I'm a huge Zack Allan fan and was [[disappoUnt...                0\n"
     ]
    }
   ],
   "source": [
    "# The Register expects the import \"review\", \"sentiment\"\n",
    "# \"sentiment\" = [\"positive\", \"negative\"]\n",
    "\n",
    "bert_ds = illuminatingUU[[\"perturbed_text\", \"original_output\"]]\n",
    "print(bert_ds.head())\n",
    "print(\"-\"*20)\n",
    "print(bert_ds[\"original_output\"].value_counts())\n",
    "print(\"-\"*20)\n",
    "print(bert_ds.head())\n",
    "# Question: only containing positive or negative sentiment?"
   ]
  },
  {
   "cell_type": "code",
   "execution_count": 32,
   "metadata": {},
   "outputs": [
    {
     "name": "stdout",
     "output_type": "stream",
     "text": [
      "                                       original_text  \\\n",
      "0  Eddie Murphy and Richard Pryor team up in this...   \n",
      "1  I'm a big fan of Patricia Hodge and Mariam Mar...   \n",
      "2  Just to let everyone know, this is possibly th...   \n",
      "3  \"Electra Glide in Blue\" is a slow moving B-fli...   \n",
      "4  I'm a huge Zack Allan fan and was [[disappoint...   \n",
      "\n",
      "                                      perturbed_text  original_score  \\\n",
      "0  Eddie Murphy and Richard Pryor team up in this...        0.002222   \n",
      "1  I'm a big fan of Patricia Hodge and Mariam Mar...        0.002670   \n",
      "2  Just to let everyone know, this is possibly th...        0.003340   \n",
      "3  \"Electra Glide in Blue\" is a slow moving B-fli...        0.002544   \n",
      "4  I'm a huge Zack Allan fan and was [[disappoUnt...        0.003667   \n",
      "\n",
      "   perturbed_score  original_output  perturbed_output  ground_truth_output  \\\n",
      "0         0.702690                0                 1                    0   \n",
      "1         0.798640                0                 1                    0   \n",
      "2         0.931049                0                 1                    0   \n",
      "3         0.886638                0                 1                    0   \n",
      "4         0.760442                0                 1                    0   \n",
      "\n",
      "   num_queries result_type  \n",
      "0           90  Successful  \n",
      "1          131  Successful  \n",
      "2           40  Successful  \n",
      "3           48  Successful  \n",
      "4           74  Successful  \n",
      "Index(['original_text', 'perturbed_text', 'original_score', 'perturbed_score',\n",
      "       'original_output', 'perturbed_output', 'ground_truth_output',\n",
      "       'num_queries', 'result_type'],\n",
      "      dtype='object')\n",
      "(1682, 9)\n"
     ]
    }
   ],
   "source": [
    "df = import_csv(\"data-imdb/uus-imdb-bert-original-dwb-uu.csv\")\n",
    "\n",
    "print(df.head())\n",
    "print(df.columns)\n",
    "print(df.shape)"
   ]
  },
  {
   "cell_type": "code",
   "execution_count": 50,
   "metadata": {},
   "outputs": [
    {
     "data": {
      "text/plain": [
       "'.'"
      ]
     },
     "execution_count": 50,
     "metadata": {},
     "output_type": "execute_result"
    }
   ],
   "source": [
    "os.chdir('/Users/koen/stack/computer-science-delft/master-ai-thesis/opendataval')\n",
    "os.curdir"
   ]
  },
  {
   "cell_type": "code",
   "execution_count": 49,
   "metadata": {},
   "outputs": [
    {
     "ename": "ModuleNotFoundError",
     "evalue": "No module named 'opendataval.dataloader'",
     "output_type": "error",
     "traceback": [
      "\u001b[0;31m---------------------------------------------------------------------------\u001b[0m",
      "\u001b[0;31mModuleNotFoundError\u001b[0m                       Traceback (most recent call last)",
      "\u001b[1;32m/Users/koen/stack/computer-science-delft/master-ai-thesis/opendataval/examples/convert-philip-ds-to-imdb-embeddings.ipynb Cell 8\u001b[0m line \u001b[0;36m1\n\u001b[0;32m----> <a href='vscode-notebook-cell:/Users/koen/stack/computer-science-delft/master-ai-thesis/opendataval/examples/convert-philip-ds-to-imdb-embeddings.ipynb#X40sZmlsZQ%3D%3D?line=0'>1</a>\u001b[0m \u001b[39mfrom\u001b[39;00m \u001b[39mopendataval\u001b[39;00m\u001b[39m.\u001b[39;00m\u001b[39mdataloader\u001b[39;00m\u001b[39m.\u001b[39;00m\u001b[39mutil\u001b[39;00m \u001b[39mimport\u001b[39;00m ListDataset\n",
      "\u001b[0;31mModuleNotFoundError\u001b[0m: No module named 'opendataval.dataloader'"
     ]
    }
   ],
   "source": [
    "from opendataval.dataloader.util import ListDataset"
   ]
  },
  {
   "cell_type": "code",
   "execution_count": 33,
   "metadata": {},
   "outputs": [
    {
     "ename": "ModuleNotFoundError",
     "evalue": "No module named 'opendataval.dataloader'",
     "output_type": "error",
     "traceback": [
      "\u001b[0;31m---------------------------------------------------------------------------\u001b[0m",
      "\u001b[0;31mModuleNotFoundError\u001b[0m                       Traceback (most recent call last)",
      "\u001b[1;32m/Users/koen/stack/computer-science-delft/master-ai-thesis/opendataval/examples/convert-philip-ds-to-imdb-embeddings.ipynb Cell 7\u001b[0m line \u001b[0;36m3\n\u001b[1;32m      <a href='vscode-notebook-cell:/Users/koen/stack/computer-science-delft/master-ai-thesis/opendataval/examples/convert-philip-ds-to-imdb-embeddings.ipynb#W4sZmlsZQ%3D%3D?line=0'>1</a>\u001b[0m \u001b[39m# convert the dataset st BertEmbeddings can read it.\u001b[39;00m\n\u001b[1;32m      <a href='vscode-notebook-cell:/Users/koen/stack/computer-science-delft/master-ai-thesis/opendataval/examples/convert-philip-ds-to-imdb-embeddings.ipynb#W4sZmlsZQ%3D%3D?line=1'>2</a>\u001b[0m \u001b[39mfrom\u001b[39;00m \u001b[39mpyparsing\u001b[39;00m \u001b[39mimport\u001b[39;00m Any\n\u001b[0;32m----> <a href='vscode-notebook-cell:/Users/koen/stack/computer-science-delft/master-ai-thesis/opendataval/examples/convert-philip-ds-to-imdb-embeddings.ipynb#W4sZmlsZQ%3D%3D?line=2'>3</a>\u001b[0m \u001b[39mfrom\u001b[39;00m \u001b[39mopendataval\u001b[39;00m\u001b[39m.\u001b[39;00m\u001b[39mdataloader\u001b[39;00m\u001b[39m.\u001b[39;00m\u001b[39mutil\u001b[39;00m \u001b[39mimport\u001b[39;00m ListDataset\n\u001b[1;32m      <a href='vscode-notebook-cell:/Users/koen/stack/computer-science-delft/master-ai-thesis/opendataval/examples/convert-philip-ds-to-imdb-embeddings.ipynb#W4sZmlsZQ%3D%3D?line=4'>5</a>\u001b[0m \u001b[39mdef\u001b[39;00m \u001b[39mget_list_for_custom_nlp_dataset\u001b[39m(cache_dir: \u001b[39mstr\u001b[39m \u001b[39m=\u001b[39m \u001b[39mNone\u001b[39;00m, force_download: \u001b[39mbool\u001b[39m \u001b[39m=\u001b[39m \u001b[39mFalse\u001b[39;00m) \u001b[39m-\u001b[39m\u001b[39m>\u001b[39m \u001b[39mtuple\u001b[39m[ListDataset, np\u001b[39m.\u001b[39mndarray[Any]]:\n\u001b[1;32m      <a href='vscode-notebook-cell:/Users/koen/stack/computer-science-delft/master-ai-thesis/opendataval/examples/convert-philip-ds-to-imdb-embeddings.ipynb#W4sZmlsZQ%3D%3D?line=6'>7</a>\u001b[0m     df \u001b[39m=\u001b[39m import_csv(\u001b[39m\"\u001b[39m\u001b[39mdata-imdb/hypo-llm-imdb-bert-original-dwb-gpt-generation-response-filtered-gpt-generation.csv\u001b[39m\u001b[39m\"\u001b[39m)\n",
      "\u001b[0;31mModuleNotFoundError\u001b[0m: No module named 'opendataval.dataloader'"
     ]
    }
   ],
   "source": [
    "# convert the dataset st BertEmbeddings can read it.\n",
    "from pyparsing import Any\n",
    "from opendataval.dataloader.util import ListDataset\n",
    "\n",
    "def get_list_for_custom_nlp_dataset(cache_dir: str = None, force_download: bool = False) -> tuple[ListDataset, np.ndarray[Any]]:\n",
    "\n",
    "    df = import_csv(\"data-imdb/hypo-llm-imdb-bert-original-dwb-gpt-generation-response-filtered-gpt-generation.csv\")\n",
    "    print(df.head())\n",
    "    print('shape=', df.shape)\n",
    "    print(\"columns\", df.columns)\n",
    "\n",
    "    # Get the text and label columns\n",
    "    df = df[[\"text\", \"label\"]]\n",
    "\n",
    "    # df = illuminatingUU[[\"text\", \"label\"]]\n",
    "\n",
    "    label_dict = {0: 0, 1: 1}\n",
    "\n",
    "    print('types:', df.dtypes)\n",
    "    print(\"-\"*10)\n",
    "    labels = np.fromiter((label_dict[label] for label in df[\"label\"]), dtype=int)\n",
    "\n",
    "    print(\"labels:\", labels)\n",
    "\n",
    "\n",
    "    return ListDataset(df[\"text\"].values), labels"
   ]
  },
  {
   "cell_type": "code",
   "execution_count": null,
   "metadata": {},
   "outputs": [],
   "source": [
    "values, labels = get_list_for_custom_nlp_dataset()\n",
    "\n",
    "print(\"-\"*10 + \"start\" + \"-\"*10)\n",
    "print(len(values))\n",
    "print(len(labels))\n",
    "\n",
    "print(\"-\"*10 + \"end\" + \"-\"*10)\n"
   ]
  },
  {
   "cell_type": "markdown",
   "metadata": {},
   "source": []
  },
  {
   "cell_type": "code",
   "execution_count": null,
   "metadata": {},
   "outputs": [],
   "source": [
    "def custom_df_as_import(df: pd.DataFrame):\n",
    "\n",
    "    return get_list_for_custom_nlp_dataset"
   ]
  },
  {
   "cell_type": "code",
   "execution_count": null,
   "metadata": {},
   "outputs": [],
   "source": [
    "from opendataval.dataloader.register import Register\n",
    "from opendataval.dataloader.datasets.nlpsets import BertEmbeddings\n",
    " \n",
    "dataset_name = \"imdb-illuminating-filtered-not-embedding\"\n",
    "embedding = Register(dataset_name, True, True)(get_list_for_custom_nlp_dataset)\n",
    "embedding"
   ]
  },
  {
   "cell_type": "code",
   "execution_count": null,
   "metadata": {},
   "outputs": [],
   "source": [
    "# Check if the dataset was imported correctly.\n",
    "from opendataval.dataloader import DataFetcher, mix_labels\n",
    "available_ds = DataFetcher.datasets_available()\n",
    "\n",
    "if(not (dataset_name in available_ds)):\n",
    "    raise Exception(\"Dataset not imported correctly.\")"
   ]
  },
  {
   "cell_type": "code",
   "execution_count": null,
   "metadata": {},
   "outputs": [],
   "source": [
    "from opendataval.experiment import ExperimentMediator\n",
    "import torch\n",
    "from opendataval.dataval import DVRL, DataOob"
   ]
  },
  {
   "cell_type": "code",
   "execution_count": null,
   "metadata": {},
   "outputs": [],
   "source": [
    "fetch = DataFetcher(dataset_name)"
   ]
  },
  {
   "cell_type": "code",
   "execution_count": null,
   "metadata": {},
   "outputs": [],
   "source": [
    "# fetch.dataset."
   ]
  },
  {
   "cell_type": "code",
   "execution_count": null,
   "metadata": {},
   "outputs": [],
   "source": [
    "imdb_embedding_fetcher = DataFetcher(\"imdb-embeddings\")"
   ]
  },
  {
   "cell_type": "code",
   "execution_count": null,
   "metadata": {},
   "outputs": [],
   "source": [
    "imdb_embedding_fetcher"
   ]
  },
  {
   "cell_type": "code",
   "execution_count": null,
   "metadata": {},
   "outputs": [],
   "source": [
    "\n",
    "train_count, valid_count, test_count = 292, 32, 162\n",
    "noise_rate = 0.1\n",
    "noise_kwargs = {'noise_rate': noise_rate}\n",
    "model_name = \"BertClassifier\" # will train a logistic regression model built with PyTorch\n",
    "metric_name = \"accuracy\"\n",
    "train_kwargs = {\"epochs\": 3, \"batch_size\": 100, \"lr\": 0.01}\n",
    "# dataset_name = \"imdb-illuminating-filtered\" \n",
    "dataset_name = \"imdb-illuminating-filtered-not-embedding\"\n",
    "\n",
    "if(torch.cuda.is_available()):\n",
    "    device = torch.device('cuda')\n",
    "else:\n",
    "    device = torch.device(\"cpu\")\n",
    "\n",
    "cache_dir = \"./opendataval/data_files\"\n",
    "\n",
    "if not os.path.exists(cache_dir):\n",
    "    print(\"path did not exist. Creating path.\")\n",
    "    os.makedirs(cache_dir)\n",
    "else: \n",
    "    print(\"path exists\")\n",
    "\n",
    "# feature extraction is performed when the following code is executed. (cpu takes 10-ish mins)\n",
    "exper_med = ExperimentMediator.model_factory_setup(\n",
    "    dataset_name=dataset_name,\n",
    "    cache_dir=cache_dir,  \n",
    "    force_download=False,\n",
    "    train_count=train_count,\n",
    "    valid_count=valid_count,\n",
    "    test_count=test_count,\n",
    "    add_noise=mix_labels,\n",
    "    noise_kwargs=noise_kwargs,\n",
    "    train_kwargs=train_kwargs,\n",
    "    device=device,\n",
    "    model_name=model_name,\n",
    "    metric_name=metric_name\n",
    ")\n",
    "\n",
    "print(\"End of experiment\" )"
   ]
  },
  {
   "cell_type": "code",
   "execution_count": null,
   "metadata": {},
   "outputs": [],
   "source": [
    "# data_evaluators = [DVRL(rl_epochs=2000)]\n",
    "data_evaluators = [DataOob(num_models=10)]"
   ]
  },
  {
   "cell_type": "code",
   "execution_count": null,
   "metadata": {},
   "outputs": [],
   "source": [
    "# get the data values. Are there negatives?\n",
    "\n",
    "exper_med.compute_data_values(data_evaluators=data_evaluators)"
   ]
  },
  {
   "cell_type": "code",
   "execution_count": null,
   "metadata": {},
   "outputs": [],
   "source": [
    "print(exper_med.data_evaluators)\n",
    "data_values = exper_med.data_evaluators[0].data_values\n",
    "\n",
    "# print(\"type dv\", type(data_values))\n",
    "\n",
    "# min = np.min(data_values)\n",
    "# max = np.max(data_values)\n",
    "\n",
    "# print(f\"min = {min}, max = {max}\")\n",
    "\n",
    "print(f\"max={data_values.max()}, min={data_values.min()}\")\n",
    "print(f\"mean={data_values.mean()}, std={data_values.std()}\")\n",
    "print(f\"median={np.median(data_values)}\")\n",
    "\n",
    "savepath = f\"{cache_dir}/first-experiment/data_values_extended_array-{model_name}.npy\"\n",
    "\n",
    "if not os.path.exists(cache_dir + '/first-experiment'):\n",
    "    os.mkdir(cache_dir + '/first-experiment')\n",
    "\n",
    "# Save the data values to numpy in cache directory\n",
    "np.save(savepath, data_values)\n",
    "\n",
    "\n",
    "\n"
   ]
  },
  {
   "cell_type": "code",
   "execution_count": null,
   "metadata": {},
   "outputs": [],
   "source": [
    "# Create a graph with all data data values\n",
    "\n",
    "import matplotlib.pyplot as plt\n",
    "\n",
    "plt.hist(data_values, bins=100)\n",
    "plt.title(\"Distribution of data values in a histogram\")\n",
    "plt.show()"
   ]
  },
  {
   "cell_type": "code",
   "execution_count": null,
   "metadata": {},
   "outputs": [],
   "source": [
    "# Remove the heighst 30% of data values\n",
    "top70 = np.percentile(data_values, 70)\n",
    "print('top 70:', top70)\n",
    "removed_top = data_values[data_values < top70]\n",
    "print(removed_top)\n",
    "# Remove bottom 30% of data values\n",
    "bottom30 = np.percentile(data_values, 30)\n",
    "print('bottom 30:', bottom30)\n",
    "removed_bottom = data_values[data_values > bottom30]\n",
    "\n",
    "print(len(removed_bottom)/len(data_values))\n",
    "print(len(removed_top)/len(data_values))"
   ]
  },
  {
   "cell_type": "code",
   "execution_count": null,
   "metadata": {},
   "outputs": [],
   "source": [
    "print('type', type(removed_bottom))\n",
    "\n",
    "# Create a new plot, ignore the prevous plot\n",
    "plt.figure()\n",
    "plt.hist(removed_bottom, bins=100)\n",
    "# plt.hist(removed_bottom, bin=100)\n",
    "plt.show()"
   ]
  },
  {
   "cell_type": "code",
   "execution_count": null,
   "metadata": {},
   "outputs": [],
   "source": [
    "# plt.hist2d(removed_bottom, removed_bottom, bins=100)\n",
    "plt.figure()\n",
    "plt.hist(removed_top, bins=100)\n",
    "plt.show()"
   ]
  }
 ],
 "metadata": {
  "kernelspec": {
   "display_name": "Python 3",
   "language": "python",
   "name": "python3"
  },
  "language_info": {
   "codemirror_mode": {
    "name": "ipython",
    "version": 3
   },
   "file_extension": ".py",
   "mimetype": "text/x-python",
   "name": "python",
   "nbconvert_exporter": "python",
   "pygments_lexer": "ipython3",
   "version": "3.9.0"
  }
 },
 "nbformat": 4,
 "nbformat_minor": 2
}
