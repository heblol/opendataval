{
 "cells": [
  {
   "cell_type": "markdown",
   "metadata": {},
   "source": [
    "# BBC dataset \n",
    "**Caution:** Many data valuation methods require training large number of models to get reliable estimates. **It is extremely slow**. We recommend using embeddings."
   ]
  },
  {
   "cell_type": "code",
   "execution_count": 1,
   "metadata": {},
   "outputs": [],
   "source": [
    "# Set the path to the opendataval folder.\n",
    "# It will now recognise all the imports correctly.\n",
    "import os \n",
    "os.chdir('/Users/koen/stack/computer-science-delft/master-ai-thesis/opendataval')"
   ]
  },
  {
   "cell_type": "code",
   "execution_count": 2,
   "metadata": {},
   "outputs": [
    {
     "name": "stderr",
     "output_type": "stream",
     "text": [
      "/Users/koen/opt/anaconda3/envs/opendataval/lib/python3.9/site-packages/tqdm/auto.py:21: TqdmWarning: IProgress not found. Please update jupyter and ipywidgets. See https://ipywidgets.readthedocs.io/en/stable/user_install.html\n",
      "  from .autonotebook import tqdm as notebook_tqdm\n",
      "<stdin>:1:10: fatal error: 'omp.h' file not found\n",
      "#include <omp.h>\n",
      "         ^~~~~~~\n",
      "1 error generated.\n"
     ]
    },
    {
     "name": "stdout",
     "output_type": "stream",
     "text": [
      "[KeOps] Warning : omp.h header is not in the path, disabling OpenMP.\n",
      "[KeOps] Warning : Cuda libraries were not detected on the system ; using cpu only mode\n"
     ]
    }
   ],
   "source": [
    "# Imports\n",
    "import numpy as np\n",
    "import pandas as pd\n",
    "import torch\n",
    "\n",
    "# Opendataval\n",
    "from opendataval.dataloader import Register, DataFetcher, mix_labels, add_gauss_noise\n",
    "from opendataval.dataval import (\n",
    "    # AME,\n",
    "    DVRL,\n",
    "    # BetaShapley,\n",
    "    # DataBanzhaf,\n",
    "    # DataOob,\n",
    "    # DataShapley,\n",
    "    # InfluenceSubsample,\n",
    "    # KNNShapley,\n",
    "    # LavaEvaluator,\n",
    "    # LeaveOneOut,\n",
    "    # RandomEvaluator,\n",
    "    # RobustVolumeShapley,\n",
    ")\n",
    "\n",
    "from opendataval.experiment import ExperimentMediator"
   ]
  },
  {
   "cell_type": "code",
   "execution_count": 3,
   "metadata": {},
   "outputs": [
    {
     "data": {
      "text/plain": [
       "<function opendataval.dataloader.datasets.nlpsets.download_imdb_illuminating(cache_dir: str, force_download: bool)>"
      ]
     },
     "execution_count": 3,
     "metadata": {},
     "output_type": "execute_result"
    }
   ],
   "source": [
    "from opendataval.dataloader.register import Register\n",
    "from opendataval.dataloader.datasets.nlpsets import BertEmbeddings, download_imdb_illuminating\n",
    " \n",
    "dataset_name = \"illuminating2\"\n",
    "embedding = Register(dataset_name, True, True)(download_imdb_illuminating)\n",
    "embedding"
   ]
  },
  {
   "cell_type": "markdown",
   "metadata": {},
   "source": [
    "## [Step 1] Set up an environment\n",
    "`ExperimentMediator` is a fundamental concept in establishing the `opendataval` environment. It empowers users to configure hyperparameters, including a dataset, a type of synthetic noise, and a prediction model. With  `ExperimentMediator`, users can effortlessly compute various data valuation algorithms.\n",
    "\n",
    "The following code cell demonstrates how to set up `ExperimentMediator` with a pre-registered dataset and a prediction model.\n",
    "- Dataset: bbc\n",
    "- Model: transformer's DistilBertModel\n",
    "- Metric: Classification accuracy"
   ]
  },
  {
   "cell_type": "code",
   "execution_count": 4,
   "metadata": {},
   "outputs": [
    {
     "name": "stdout",
     "output_type": "stream",
     "text": [
      "This is the illuminating d                                                   text  label\n",
      "0    The cinematography in this film is absolutely ...      1\n",
      "1    The cinematography in this film was absolutely...      0\n",
      "2    I was so excited to see this new movue, but it...      0\n",
      "3    The movie, The Shawshank RedempCtion, is a cla...      1\n",
      "4    I was absolutely blown away by the stunning vi...      1\n",
      "..                                                 ...    ...\n",
      "481  At first, I was skeptical about watching this ...      0\n",
      "482  The new Jurassic World movie is <<amazing>>! T...      1\n",
      "483  This movie was so [[amazing]]! The acting was ...      1\n",
      "484  The first time I watched The Shawshank Redempt...      1\n",
      "485  I recently watched a classic horror movie and ...      0\n",
      "\n",
      "[486 rows x 2 columns]\n",
      "Size is: 2 2\n",
      "Base line model metric_name='accuracy': perf=0.7962962985038757\n"
     ]
    }
   ],
   "source": [
    "dataset_name = \"illuminating2\" \n",
    "train_count, valid_count, test_count = 292, 32, 162\n",
    "noise_rate = 0.1\n",
    "noise_kwargs = {'noise_rate': noise_rate}\n",
    "model_name = \"BertClassifier\"\n",
    "metric_name = \"accuracy\"\n",
    "train_kwargs = {\"epochs\": 2, \"batch_size\": 50}\n",
    "device = torch.device('cpu')\n",
    "\n",
    "exper_med = ExperimentMediator.model_factory_setup(\n",
    "    dataset_name=dataset_name,\n",
    "    cache_dir=\"../data_files/\",  \n",
    "    force_download=False,\n",
    "    train_count=train_count,\n",
    "    valid_count=valid_count,\n",
    "    test_count=test_count,\n",
    "    add_noise=mix_labels,\n",
    "    noise_kwargs=noise_kwargs,\n",
    "    train_kwargs=train_kwargs,\n",
    "    device=device,\n",
    "    model_name=model_name,\n",
    "    metric_name=metric_name\n",
    ")"
   ]
  },
  {
   "cell_type": "markdown",
   "metadata": {},
   "source": [
    "## [Step 2] Compute data values\n",
    "`opendataval` provides various state-of-the-art data valuation algorithms. `ExperimentMediator.compute_data_values()` computes data values."
   ]
  },
  {
   "cell_type": "code",
   "execution_count": 5,
   "metadata": {},
   "outputs": [],
   "source": [
    "# Original\n",
    "# data_evaluators = [ \n",
    "#     RandomEvaluator(),\n",
    "# #     LeaveOneOut(), # leave one out ## slow\n",
    "#     InfluenceSubsample(num_models=10), # influence function\n",
    "# #     DVRL(rl_epochs=10), # Data valuation using Reinforcement Learning ## inappropriate\n",
    "# #     KNNShapley(k_neighbors=valid_count), # KNN-Shapley ## inappropriate\n",
    "# #     DataShapley(gr_threshold=1.05, mc_epochs=300, cache_name=f\"cached\"), # Data-Shapley ## slow\n",
    "# #     BetaShapley(gr_threshold=1.05, mc_epochs=300, cache_name=f\"cached\"), # Beta-Shapley ## slow\n",
    "#     DataBanzhaf(num_models=10), # Data-Banzhaf\n",
    "#     AME(num_models=10), # Average Marginal Effects\n",
    "#     DataOob(num_models=10) # Data-OOB\n",
    "# #     LavaEvaluator(),\n",
    "# #     RobustVolumeShapley(mc_epochs=300)\n",
    "# ]"
   ]
  },
  {
   "cell_type": "code",
   "execution_count": 6,
   "metadata": {},
   "outputs": [],
   "source": [
    "from opendataval.dataval import RandomEvaluator, InfluenceSubsample"
   ]
  },
  {
   "cell_type": "code",
   "execution_count": 7,
   "metadata": {},
   "outputs": [],
   "source": [
    "data_evaluators = [ \n",
    "    RandomEvaluator(),\n",
    "    InfluenceSubsample(num_models=10), # influence function\n",
    "# #     DVRL(rl_epochs=10), # Data valuation using Reinforcement Learning ## inappropriate\n",
    "# #     KNNShapley(k_neighbors=valid_count), # KNN-Shapley ## inappropriate\n",
    "# #     DataShapley(gr_threshold=1.05, mc_epochs=300, cache_name=f\"cached\"), # Data-Shapley ## slow\n",
    "# #     BetaShapley(gr_threshold=1.05, mc_epochs=300, cache_name=f\"cached\"), # Beta-Shapley ## slow\n",
    "#     DataBanzhaf(num_models=10), # Data-Banzhaf\n",
    "#     AME(num_models=10), # Average Marginal Effects\n",
    "#     DataOob(num_models=10) # Data-OOB\n",
    "# #     LavaEvaluator(),\n",
    "# #     RobustVolumeShapley(mc_epochs=300)\n",
    "]"
   ]
  },
  {
   "cell_type": "code",
   "execution_count": 8,
   "metadata": {},
   "outputs": [
    {
     "name": "stdout",
     "output_type": "stream",
     "text": [
      "calculating datavalues for RandomEvaluator()\n",
      "Elapsed time RandomEvaluator(): 0:00:00.001093\n",
      "calculating datavalues for InfluenceSubsample(num_models=10)\n",
      "huggingface/tokenizers: The current process just got forked, after parallelism has already been used. Disabling parallelism to avoid deadlocks...\n",
      "To disable this warning, you can either:\n",
      "\t- Avoid using `tokenizers` before the fork if possible\n",
      "\t- Explicitly set the environment variable TOKENIZERS_PARALLELISM=(true | false)\n"
     ]
    },
    {
     "name": "stderr",
     "output_type": "stream",
     "text": [
      "100%|██████████| 10/10 [03:06<00:00, 18.68s/it]"
     ]
    },
    {
     "name": "stdout",
     "output_type": "stream",
     "text": [
      "Elapsed time InfluenceSubsample(num_models=10): 0:03:07.101788\n",
      "CPU times: user 11min 26s, sys: 47.6 s, total: 12min 13s\n",
      "Wall time: 3min 7s\n"
     ]
    },
    {
     "name": "stderr",
     "output_type": "stream",
     "text": [
      "\n"
     ]
    }
   ],
   "source": [
    "%%time\n",
    "# compute data values.\n",
    "## Training multiple DistilBERT models is extremely slow. We recommend using embeddings.\n",
    "exper_med = exper_med.compute_data_values(data_evaluators=data_evaluators)"
   ]
  },
  {
   "cell_type": "markdown",
   "metadata": {},
   "source": [
    "## [Step 3] Store data values"
   ]
  },
  {
   "cell_type": "code",
   "execution_count": 14,
   "metadata": {},
   "outputs": [
    {
     "name": "stdout",
     "output_type": "stream",
     "text": [
      "outcome <opendataval.experiment.api.ExperimentMediator object at 0x7fd2791c9040>\n"
     ]
    }
   ],
   "source": [
    "print(\"outcome\", exper_med)"
   ]
  },
  {
   "cell_type": "code",
   "execution_count": 15,
   "metadata": {},
   "outputs": [
    {
     "data": {
      "text/plain": [
       "'/tmp/illuminating2_noise_rate=0.1/'"
      ]
     },
     "execution_count": 15,
     "metadata": {},
     "output_type": "execute_result"
    }
   ],
   "source": [
    "from opendataval.experiment.exper_methods import save_dataval\n",
    "\n",
    "# Saving the results\n",
    "output_dir = f\"/tmp/{dataset_name}_{noise_rate=}/\"\n",
    "exper_med.set_output_directory(output_dir)\n",
    "output_dir"
   ]
  },
  {
   "cell_type": "code",
   "execution_count": 16,
   "metadata": {},
   "outputs": [
    {
     "data": {
      "text/html": [
       "<div>\n",
       "<style scoped>\n",
       "    .dataframe tbody tr th:only-of-type {\n",
       "        vertical-align: middle;\n",
       "    }\n",
       "\n",
       "    .dataframe tbody tr th {\n",
       "        vertical-align: top;\n",
       "    }\n",
       "\n",
       "    .dataframe thead th {\n",
       "        text-align: right;\n",
       "    }\n",
       "</style>\n",
       "<table border=\"1\" class=\"dataframe\">\n",
       "  <thead>\n",
       "    <tr style=\"text-align: right;\">\n",
       "      <th></th>\n",
       "      <th>indices</th>\n",
       "      <th>data_values</th>\n",
       "    </tr>\n",
       "  </thead>\n",
       "  <tbody>\n",
       "    <tr>\n",
       "      <th>RandomEvaluator()</th>\n",
       "      <td>353</td>\n",
       "      <td>0.064615</td>\n",
       "    </tr>\n",
       "    <tr>\n",
       "      <th>RandomEvaluator()</th>\n",
       "      <td>64</td>\n",
       "      <td>0.573396</td>\n",
       "    </tr>\n",
       "    <tr>\n",
       "      <th>RandomEvaluator()</th>\n",
       "      <td>90</td>\n",
       "      <td>0.260634</td>\n",
       "    </tr>\n",
       "    <tr>\n",
       "      <th>RandomEvaluator()</th>\n",
       "      <td>83</td>\n",
       "      <td>0.110345</td>\n",
       "    </tr>\n",
       "    <tr>\n",
       "      <th>RandomEvaluator()</th>\n",
       "      <td>284</td>\n",
       "      <td>0.089881</td>\n",
       "    </tr>\n",
       "    <tr>\n",
       "      <th>...</th>\n",
       "      <td>...</td>\n",
       "      <td>...</td>\n",
       "    </tr>\n",
       "    <tr>\n",
       "      <th>InfluenceSubsample(num_models=10)</th>\n",
       "      <td>203</td>\n",
       "      <td>0.119792</td>\n",
       "    </tr>\n",
       "    <tr>\n",
       "      <th>InfluenceSubsample(num_models=10)</th>\n",
       "      <td>139</td>\n",
       "      <td>0.079861</td>\n",
       "    </tr>\n",
       "    <tr>\n",
       "      <th>InfluenceSubsample(num_models=10)</th>\n",
       "      <td>40</td>\n",
       "      <td>-0.05625</td>\n",
       "    </tr>\n",
       "    <tr>\n",
       "      <th>InfluenceSubsample(num_models=10)</th>\n",
       "      <td>457</td>\n",
       "      <td>-0.027344</td>\n",
       "    </tr>\n",
       "    <tr>\n",
       "      <th>InfluenceSubsample(num_models=10)</th>\n",
       "      <td>142</td>\n",
       "      <td>-0.036458</td>\n",
       "    </tr>\n",
       "  </tbody>\n",
       "</table>\n",
       "<p>584 rows × 2 columns</p>\n",
       "</div>"
      ],
      "text/plain": [
       "                                  indices data_values\n",
       "RandomEvaluator()                     353    0.064615\n",
       "RandomEvaluator()                      64    0.573396\n",
       "RandomEvaluator()                      90    0.260634\n",
       "RandomEvaluator()                      83    0.110345\n",
       "RandomEvaluator()                     284    0.089881\n",
       "...                                   ...         ...\n",
       "InfluenceSubsample(num_models=10)     203    0.119792\n",
       "InfluenceSubsample(num_models=10)     139    0.079861\n",
       "InfluenceSubsample(num_models=10)      40    -0.05625\n",
       "InfluenceSubsample(num_models=10)     457   -0.027344\n",
       "InfluenceSubsample(num_models=10)     142   -0.036458\n",
       "\n",
       "[584 rows x 2 columns]"
      ]
     },
     "execution_count": 16,
     "metadata": {},
     "output_type": "execute_result"
    }
   ],
   "source": [
    "exper_med.evaluate(save_dataval, save_output=True)"
   ]
  },
  {
   "cell_type": "code",
   "execution_count": 17,
   "metadata": {},
   "outputs": [],
   "source": [
    "from opendataval.experiment.exper_methods import (\n",
    "    discover_corrupted_sample,\n",
    "    noisy_detection,\n",
    "    remove_high_low,\n",
    "    save_dataval\n",
    ")\n",
    "from matplotlib import pyplot as plt"
   ]
  },
  {
   "cell_type": "code",
   "execution_count": 19,
   "metadata": {},
   "outputs": [
    {
     "data": {
      "text/plain": [
       "2"
      ]
     },
     "execution_count": 19,
     "metadata": {},
     "output_type": "execute_result"
    }
   ],
   "source": [
    "exper_med.num_data_eval"
   ]
  },
  {
   "cell_type": "code",
   "execution_count": 25,
   "metadata": {},
   "outputs": [
    {
     "data": {
      "text/plain": [
       "(0.665625, -0.26736111111111116, 0.15768838989942843, 0.02051133738312677)"
      ]
     },
     "execution_count": 25,
     "metadata": {},
     "output_type": "execute_result"
    }
   ],
   "source": [
    "dv = exper_med.data_evaluators[1].data_values\n",
    "np.max(dv), np.min(dv), np.std(dv), np.mean(dv)"
   ]
  },
  {
   "cell_type": "code",
   "execution_count": 27,
   "metadata": {},
   "outputs": [
    {
     "ename": "ValueError",
     "evalue": "x and y must have same first dimension, but have shapes (21,) and (20,)",
     "output_type": "error",
     "traceback": [
      "\u001b[0;31m---------------------------------------------------------------------------\u001b[0m",
      "\u001b[0;31mValueError\u001b[0m                                Traceback (most recent call last)",
      "\u001b[1;32m/Users/koen/stack/computer-science-delft/master-ai-thesis/opendataval/examples/bbc_classification-adapted-for-illuminating.ipynb Cell 19\u001b[0m line \u001b[0;36m2\n\u001b[1;32m      <a href='vscode-notebook-cell:/Users/koen/stack/computer-science-delft/master-ai-thesis/opendataval/examples/bbc_classification-adapted-for-illuminating.ipynb#X36sZmlsZQ%3D%3D?line=0'>1</a>\u001b[0m fig \u001b[39m=\u001b[39m plt\u001b[39m.\u001b[39mfigure(figsize\u001b[39m=\u001b[39m(\u001b[39m15\u001b[39m, \u001b[39m10\u001b[39m))\n\u001b[0;32m----> <a href='vscode-notebook-cell:/Users/koen/stack/computer-science-delft/master-ai-thesis/opendataval/examples/bbc_classification-adapted-for-illuminating.ipynb#X36sZmlsZQ%3D%3D?line=1'>2</a>\u001b[0m _, fig \u001b[39m=\u001b[39m exper_med\u001b[39m.\u001b[39;49mplot(discover_corrupted_sample, fig, col\u001b[39m=\u001b[39;49m\u001b[39m2\u001b[39;49m, save_output\u001b[39m=\u001b[39;49m\u001b[39mTrue\u001b[39;49;00m)\n",
      "File \u001b[0;32m~/stack/computer-science-delft/master-ai-thesis/opendataval/opendataval/experiment/api.py:395\u001b[0m, in \u001b[0;36mExperimentMediator.plot\u001b[0;34m(self, exper_func, figure, row, col, save_output, **exper_kwargs)\u001b[0m\n\u001b[1;32m    393\u001b[0m     \u001b[39mif\u001b[39;00m \u001b[39m\"\u001b[39m\u001b[39mplot\u001b[39m\u001b[39m\"\u001b[39m \u001b[39min\u001b[39;00m filtered_kwargs:\n\u001b[1;32m    394\u001b[0m         filtered_kwargs[\u001b[39m\"\u001b[39m\u001b[39mplot\u001b[39m\u001b[39m\"\u001b[39m] \u001b[39m=\u001b[39m figure\u001b[39m.\u001b[39madd_subplot(row, col, i)\n\u001b[0;32m--> 395\u001b[0m     eval_resp \u001b[39m=\u001b[39m exper_func(data_val, \u001b[39mself\u001b[39;49m\u001b[39m.\u001b[39;49mfetcher, \u001b[39m*\u001b[39;49m\u001b[39m*\u001b[39;49mfiltered_kwargs)\n\u001b[1;32m    397\u001b[0m     data_eval_perf[\u001b[39mstr\u001b[39m(data_val)] \u001b[39m=\u001b[39m eval_resp\n\u001b[1;32m    399\u001b[0m \u001b[39m# index=[DataEvaluator.DataEvaluator]\u001b[39;00m\n",
      "File \u001b[0;32m~/stack/computer-science-delft/master-ai-thesis/opendataval/opendataval/experiment/exper_methods.py:272\u001b[0m, in \u001b[0;36mdiscover_corrupted_sample\u001b[0;34m(evaluator, fetcher, data, percentile, plot)\u001b[0m\n\u001b[1;32m    269\u001b[0m eval_results[\u001b[39m\"\u001b[39m\u001b[39moptimal\u001b[39m\u001b[39m\"\u001b[39m] \u001b[39m=\u001b[39m y_opt\n\u001b[1;32m    270\u001b[0m eval_results[\u001b[39m\"\u001b[39m\u001b[39mrandom\u001b[39m\u001b[39m\"\u001b[39m] \u001b[39m=\u001b[39m y_random\n\u001b[0;32m--> 272\u001b[0m plot\u001b[39m.\u001b[39;49mplot(x_axis, y_dv, \u001b[39m\"\u001b[39;49m\u001b[39mo-\u001b[39;49m\u001b[39m\"\u001b[39;49m)\n\u001b[1;32m    273\u001b[0m plot\u001b[39m.\u001b[39mplot(x_axis, y_opt, \u001b[39m\"\u001b[39m\u001b[39m--\u001b[39m\u001b[39m\"\u001b[39m)\n\u001b[1;32m    274\u001b[0m plot\u001b[39m.\u001b[39mplot(x_axis, y_random, \u001b[39m\"\u001b[39m\u001b[39m:\u001b[39m\u001b[39m\"\u001b[39m)\n",
      "File \u001b[0;32m~/opt/anaconda3/envs/opendataval/lib/python3.9/site-packages/matplotlib/axes/_axes.py:1721\u001b[0m, in \u001b[0;36mAxes.plot\u001b[0;34m(self, scalex, scaley, data, *args, **kwargs)\u001b[0m\n\u001b[1;32m   1478\u001b[0m \u001b[39m\u001b[39m\u001b[39m\"\"\"\u001b[39;00m\n\u001b[1;32m   1479\u001b[0m \u001b[39mPlot y versus x as lines and/or markers.\u001b[39;00m\n\u001b[1;32m   1480\u001b[0m \n\u001b[0;32m   (...)\u001b[0m\n\u001b[1;32m   1718\u001b[0m \u001b[39m(``'green'``) or hex strings (``'#008000'``).\u001b[39;00m\n\u001b[1;32m   1719\u001b[0m \u001b[39m\"\"\"\u001b[39;00m\n\u001b[1;32m   1720\u001b[0m kwargs \u001b[39m=\u001b[39m cbook\u001b[39m.\u001b[39mnormalize_kwargs(kwargs, mlines\u001b[39m.\u001b[39mLine2D)\n\u001b[0;32m-> 1721\u001b[0m lines \u001b[39m=\u001b[39m [\u001b[39m*\u001b[39m\u001b[39mself\u001b[39m\u001b[39m.\u001b[39m_get_lines(\u001b[39mself\u001b[39m, \u001b[39m*\u001b[39margs, data\u001b[39m=\u001b[39mdata, \u001b[39m*\u001b[39m\u001b[39m*\u001b[39mkwargs)]\n\u001b[1;32m   1722\u001b[0m \u001b[39mfor\u001b[39;00m line \u001b[39min\u001b[39;00m lines:\n\u001b[1;32m   1723\u001b[0m     \u001b[39mself\u001b[39m\u001b[39m.\u001b[39madd_line(line)\n",
      "File \u001b[0;32m~/opt/anaconda3/envs/opendataval/lib/python3.9/site-packages/matplotlib/axes/_base.py:303\u001b[0m, in \u001b[0;36m_process_plot_var_args.__call__\u001b[0;34m(self, axes, data, *args, **kwargs)\u001b[0m\n\u001b[1;32m    301\u001b[0m     this \u001b[39m+\u001b[39m\u001b[39m=\u001b[39m args[\u001b[39m0\u001b[39m],\n\u001b[1;32m    302\u001b[0m     args \u001b[39m=\u001b[39m args[\u001b[39m1\u001b[39m:]\n\u001b[0;32m--> 303\u001b[0m \u001b[39myield from\u001b[39;00m \u001b[39mself\u001b[39;49m\u001b[39m.\u001b[39;49m_plot_args(\n\u001b[1;32m    304\u001b[0m     axes, this, kwargs, ambiguous_fmt_datakey\u001b[39m=\u001b[39;49mambiguous_fmt_datakey)\n",
      "File \u001b[0;32m~/opt/anaconda3/envs/opendataval/lib/python3.9/site-packages/matplotlib/axes/_base.py:499\u001b[0m, in \u001b[0;36m_process_plot_var_args._plot_args\u001b[0;34m(self, axes, tup, kwargs, return_kwargs, ambiguous_fmt_datakey)\u001b[0m\n\u001b[1;32m    496\u001b[0m     axes\u001b[39m.\u001b[39myaxis\u001b[39m.\u001b[39mupdate_units(y)\n\u001b[1;32m    498\u001b[0m \u001b[39mif\u001b[39;00m x\u001b[39m.\u001b[39mshape[\u001b[39m0\u001b[39m] \u001b[39m!=\u001b[39m y\u001b[39m.\u001b[39mshape[\u001b[39m0\u001b[39m]:\n\u001b[0;32m--> 499\u001b[0m     \u001b[39mraise\u001b[39;00m \u001b[39mValueError\u001b[39;00m(\u001b[39mf\u001b[39m\u001b[39m\"\u001b[39m\u001b[39mx and y must have same first dimension, but \u001b[39m\u001b[39m\"\u001b[39m\n\u001b[1;32m    500\u001b[0m                      \u001b[39mf\u001b[39m\u001b[39m\"\u001b[39m\u001b[39mhave shapes \u001b[39m\u001b[39m{\u001b[39;00mx\u001b[39m.\u001b[39mshape\u001b[39m}\u001b[39;00m\u001b[39m and \u001b[39m\u001b[39m{\u001b[39;00my\u001b[39m.\u001b[39mshape\u001b[39m}\u001b[39;00m\u001b[39m\"\u001b[39m)\n\u001b[1;32m    501\u001b[0m \u001b[39mif\u001b[39;00m x\u001b[39m.\u001b[39mndim \u001b[39m>\u001b[39m \u001b[39m2\u001b[39m \u001b[39mor\u001b[39;00m y\u001b[39m.\u001b[39mndim \u001b[39m>\u001b[39m \u001b[39m2\u001b[39m:\n\u001b[1;32m    502\u001b[0m     \u001b[39mraise\u001b[39;00m \u001b[39mValueError\u001b[39;00m(\u001b[39mf\u001b[39m\u001b[39m\"\u001b[39m\u001b[39mx and y can be no greater than 2D, but have \u001b[39m\u001b[39m\"\u001b[39m\n\u001b[1;32m    503\u001b[0m                      \u001b[39mf\u001b[39m\u001b[39m\"\u001b[39m\u001b[39mshapes \u001b[39m\u001b[39m{\u001b[39;00mx\u001b[39m.\u001b[39mshape\u001b[39m}\u001b[39;00m\u001b[39m and \u001b[39m\u001b[39m{\u001b[39;00my\u001b[39m.\u001b[39mshape\u001b[39m}\u001b[39;00m\u001b[39m\"\u001b[39m)\n",
      "\u001b[0;31mValueError\u001b[0m: x and y must have same first dimension, but have shapes (21,) and (20,)"
     ]
    },
    {
     "data": {
      "image/png": "[encoded data removed]",
      "text/plain": [
       "<Figure size 1500x1000 with 1 Axes>"
      ]
     },
     "metadata": {},
     "output_type": "display_data"
    }
   ],
   "source": [
    "fig = plt.figure(figsize=(15, 10))\n",
    "_, fig = exper_med.plot(discover_corrupted_sample, fig, col=2, save_output=True)"
   ]
  }
 ],
 "metadata": {
  "kernelspec": {
   "display_name": "Python 3 (ipykernel)",
   "language": "python",
   "name": "python3"
  },
  "language_info": {
   "codemirror_mode": {
    "name": "ipython",
    "version": 3
   },
   "file_extension": ".py",
   "mimetype": "text/x-python",
   "name": "python",
   "nbconvert_exporter": "python",
   "pygments_lexer": "ipython3",
   "version": "3.9.0"
  }
 },
 "nbformat": 4,
 "nbformat_minor": 2
}
