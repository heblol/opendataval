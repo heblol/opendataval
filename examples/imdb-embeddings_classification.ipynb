{
 "cells": [
  {
   "cell_type": "markdown",
   "metadata": {},
   "source": [
    "# imdb-embeddings dataset "
   ]
  },
  {
   "cell_type": "code",
   "execution_count": 1,
   "metadata": {},
   "outputs": [
    {
     "data": {
      "text/plain": [
       "['/Users/koen/stack/computer-science-delft/master-ai-thesis/opendataval/examples',\n",
       " '/Users/koen/opt/anaconda3/envs/opendataval/lib/python39.zip',\n",
       " '/Users/koen/opt/anaconda3/envs/opendataval/lib/python3.9',\n",
       " '/Users/koen/opt/anaconda3/envs/opendataval/lib/python3.9/lib-dynload',\n",
       " '',\n",
       " '/Users/koen/opt/anaconda3/envs/opendataval/lib/python3.9/site-packages',\n",
       " '/Users/koen/stack/computer-science-delft/master-ai-thesis/opendataval']"
      ]
     },
     "execution_count": 1,
     "metadata": {},
     "output_type": "execute_result"
    }
   ],
   "source": [
    "# Set the path to the opendataval folder.\n",
    "# It will now recognise all the imports correctly.\n",
    "import os \n",
    "import sys\n",
    "package_path = '/Users/koen/stack/computer-science-delft/master-ai-thesis/opendataval'\n",
    "os.chdir(package_path)\n",
    "sys.path.append(package_path)\n",
    "sys.path"
   ]
  },
  {
   "cell_type": "code",
   "execution_count": 2,
   "metadata": {},
   "outputs": [
    {
     "name": "stderr",
     "output_type": "stream",
     "text": [
      "/Users/koen/opt/anaconda3/envs/opendataval/lib/python3.9/site-packages/tqdm/auto.py:21: TqdmWarning: IProgress not found. Please update jupyter and ipywidgets. See https://ipywidgets.readthedocs.io/en/stable/user_install.html\n",
      "  from .autonotebook import tqdm as notebook_tqdm\n"
     ]
    }
   ],
   "source": [
    "from opendataval.dataloader.util import ListDataset"
   ]
  },
  {
   "cell_type": "code",
   "execution_count": 3,
   "metadata": {},
   "outputs": [
    {
     "name": "stderr",
     "output_type": "stream",
     "text": [
      "<stdin>:1:10: fatal error: 'omp.h' file not found\n",
      "#include <omp.h>\n",
      "         ^~~~~~~\n",
      "1 error generated.\n"
     ]
    },
    {
     "name": "stdout",
     "output_type": "stream",
     "text": [
      "[KeOps] Warning : omp.h header is not in the path, disabling OpenMP.\n",
      "[KeOps] Warning : Cuda libraries were not detected on the system ; using cpu only mode\n"
     ]
    }
   ],
   "source": [
    "# Imports\n",
    "import numpy as np\n",
    "import pandas as pd\n",
    "import torch\n",
    "\n",
    "# Opendataval\n",
    "from opendataval.dataloader import Register, DataFetcher, mix_labels, add_gauss_noise\n",
    "from opendataval.dataval import (\n",
    "    AME,\n",
    "    DVRL,\n",
    "    BetaShapley,\n",
    "    DataBanzhaf,\n",
    "    DataOob,\n",
    "    DataShapley,\n",
    "    InfluenceSubsample,\n",
    "    KNNShapley,\n",
    "    LavaEvaluator,\n",
    "    LeaveOneOut,\n",
    "    RandomEvaluator,\n",
    "    RobustVolumeShapley,\n",
    ")\n",
    "\n",
    "from opendataval.experiment import ExperimentMediator"
   ]
  },
  {
   "cell_type": "markdown",
   "metadata": {},
   "source": [
    "## [Step 1] Set up an environment\n",
    "`ExperimentMediator` is a fundamental concept in establishing the `opendataval` environment. It empowers users to configure hyperparameters, including a dataset, a type of synthetic noise, and a prediction model. With  `ExperimentMediator`, users can effortlessly compute various data valuation algorithms.\n",
    "\n",
    "The following code cell demonstrates how to set up `ExperimentMediator` with a pre-registered dataset and a prediction model.\n",
    "- Dataset: imdb-embeddings\n",
    "- Model: transformer's pretrained DistilBertModel + LogisticRegression\n",
    "- Metric: Classification accuracy"
   ]
  },
  {
   "cell_type": "code",
   "execution_count": 4,
   "metadata": {},
   "outputs": [
    {
     "name": "stdout",
     "output_type": "stream",
     "text": [
      "path exists\n",
      "This is the function name <function download_imdb at 0x7f8bc57a5550>\n"
     ]
    },
    {
     "ename": "EmptyDataError",
     "evalue": "No columns to parse from file",
     "output_type": "error",
     "traceback": [
      "\u001b[0;31m---------------------------------------------------------------------------\u001b[0m",
      "\u001b[0;31mEmptyDataError\u001b[0m                            Traceback (most recent call last)",
      "\u001b[1;32m/Users/koen/stack/computer-science-delft/master-ai-thesis/opendataval/examples/imdb-embeddings_classification.ipynb Cell 6\u001b[0m line \u001b[0;36m2\n\u001b[1;32m     <a href='vscode-notebook-cell:/Users/koen/stack/computer-science-delft/master-ai-thesis/opendataval/examples/imdb-embeddings_classification.ipynb#W5sZmlsZQ%3D%3D?line=19'>20</a>\u001b[0m     \u001b[39mprint\u001b[39m(\u001b[39m\"\u001b[39m\u001b[39mpath exists\u001b[39m\u001b[39m\"\u001b[39m)\n\u001b[1;32m     <a href='vscode-notebook-cell:/Users/koen/stack/computer-science-delft/master-ai-thesis/opendataval/examples/imdb-embeddings_classification.ipynb#W5sZmlsZQ%3D%3D?line=21'>22</a>\u001b[0m \u001b[39m# feature extraction is performed when the following code is executed. (cpu takes 10-ish mins)\u001b[39;00m\n\u001b[0;32m---> <a href='vscode-notebook-cell:/Users/koen/stack/computer-science-delft/master-ai-thesis/opendataval/examples/imdb-embeddings_classification.ipynb#W5sZmlsZQ%3D%3D?line=22'>23</a>\u001b[0m exper_med \u001b[39m=\u001b[39m ExperimentMediator\u001b[39m.\u001b[39;49mmodel_factory_setup(\n\u001b[1;32m     <a href='vscode-notebook-cell:/Users/koen/stack/computer-science-delft/master-ai-thesis/opendataval/examples/imdb-embeddings_classification.ipynb#W5sZmlsZQ%3D%3D?line=23'>24</a>\u001b[0m     dataset_name\u001b[39m=\u001b[39;49mdataset_name,\n\u001b[1;32m     <a href='vscode-notebook-cell:/Users/koen/stack/computer-science-delft/master-ai-thesis/opendataval/examples/imdb-embeddings_classification.ipynb#W5sZmlsZQ%3D%3D?line=24'>25</a>\u001b[0m     cache_dir\u001b[39m=\u001b[39;49mcache_dir,  \n\u001b[1;32m     <a href='vscode-notebook-cell:/Users/koen/stack/computer-science-delft/master-ai-thesis/opendataval/examples/imdb-embeddings_classification.ipynb#W5sZmlsZQ%3D%3D?line=25'>26</a>\u001b[0m     force_download\u001b[39m=\u001b[39;49m\u001b[39mFalse\u001b[39;49;00m,\n\u001b[1;32m     <a href='vscode-notebook-cell:/Users/koen/stack/computer-science-delft/master-ai-thesis/opendataval/examples/imdb-embeddings_classification.ipynb#W5sZmlsZQ%3D%3D?line=26'>27</a>\u001b[0m     train_count\u001b[39m=\u001b[39;49mtrain_count,\n\u001b[1;32m     <a href='vscode-notebook-cell:/Users/koen/stack/computer-science-delft/master-ai-thesis/opendataval/examples/imdb-embeddings_classification.ipynb#W5sZmlsZQ%3D%3D?line=27'>28</a>\u001b[0m     valid_count\u001b[39m=\u001b[39;49mvalid_count,\n\u001b[1;32m     <a href='vscode-notebook-cell:/Users/koen/stack/computer-science-delft/master-ai-thesis/opendataval/examples/imdb-embeddings_classification.ipynb#W5sZmlsZQ%3D%3D?line=28'>29</a>\u001b[0m     test_count\u001b[39m=\u001b[39;49mtest_count,\n\u001b[1;32m     <a href='vscode-notebook-cell:/Users/koen/stack/computer-science-delft/master-ai-thesis/opendataval/examples/imdb-embeddings_classification.ipynb#W5sZmlsZQ%3D%3D?line=29'>30</a>\u001b[0m     add_noise\u001b[39m=\u001b[39;49mmix_labels,\n\u001b[1;32m     <a href='vscode-notebook-cell:/Users/koen/stack/computer-science-delft/master-ai-thesis/opendataval/examples/imdb-embeddings_classification.ipynb#W5sZmlsZQ%3D%3D?line=30'>31</a>\u001b[0m     noise_kwargs\u001b[39m=\u001b[39;49mnoise_kwargs,\n\u001b[1;32m     <a href='vscode-notebook-cell:/Users/koen/stack/computer-science-delft/master-ai-thesis/opendataval/examples/imdb-embeddings_classification.ipynb#W5sZmlsZQ%3D%3D?line=31'>32</a>\u001b[0m     train_kwargs\u001b[39m=\u001b[39;49mtrain_kwargs,\n\u001b[1;32m     <a href='vscode-notebook-cell:/Users/koen/stack/computer-science-delft/master-ai-thesis/opendataval/examples/imdb-embeddings_classification.ipynb#W5sZmlsZQ%3D%3D?line=32'>33</a>\u001b[0m     device\u001b[39m=\u001b[39;49mdevice,\n\u001b[1;32m     <a href='vscode-notebook-cell:/Users/koen/stack/computer-science-delft/master-ai-thesis/opendataval/examples/imdb-embeddings_classification.ipynb#W5sZmlsZQ%3D%3D?line=33'>34</a>\u001b[0m     model_name\u001b[39m=\u001b[39;49mmodel_name,\n\u001b[1;32m     <a href='vscode-notebook-cell:/Users/koen/stack/computer-science-delft/master-ai-thesis/opendataval/examples/imdb-embeddings_classification.ipynb#W5sZmlsZQ%3D%3D?line=34'>35</a>\u001b[0m     metric_name\u001b[39m=\u001b[39;49mmetric_name\n\u001b[1;32m     <a href='vscode-notebook-cell:/Users/koen/stack/computer-science-delft/master-ai-thesis/opendataval/examples/imdb-embeddings_classification.ipynb#W5sZmlsZQ%3D%3D?line=35'>36</a>\u001b[0m )\n\u001b[1;32m     <a href='vscode-notebook-cell:/Users/koen/stack/computer-science-delft/master-ai-thesis/opendataval/examples/imdb-embeddings_classification.ipynb#W5sZmlsZQ%3D%3D?line=37'>38</a>\u001b[0m \u001b[39mprint\u001b[39m(\u001b[39m\"\u001b[39m\u001b[39mEnd of experiment\u001b[39m\u001b[39m\"\u001b[39m )\n",
      "File \u001b[0;32m~/stack/computer-science-delft/master-ai-thesis/opendataval/opendataval/experiment/api.py:201\u001b[0m, in \u001b[0;36mExperimentMediator.model_factory_setup\u001b[0;34m(cls, dataset_name, cache_dir, force_download, train_count, valid_count, test_count, add_noise, noise_kwargs, random_state, model_name, device, train_kwargs, metric_name, output_dir, raises_error)\u001b[0m\n\u001b[1;32m    140\u001b[0m \u001b[39m\u001b[39m\u001b[39m\"\"\"Set up ExperimentMediator from ModelFactory using an input string.\u001b[39;00m\n\u001b[1;32m    141\u001b[0m \n\u001b[1;32m    142\u001b[0m \u001b[39mReturn a ExperimentMediator initialized with\u001b[39;00m\n\u001b[0;32m   (...)\u001b[0m\n\u001b[1;32m    197\u001b[0m \u001b[39m    ExperimentMediator created from ModelFactory defaults\u001b[39;00m\n\u001b[1;32m    198\u001b[0m \u001b[39m\"\"\"\u001b[39;00m\n\u001b[1;32m    199\u001b[0m noise_kwargs \u001b[39m=\u001b[39m {} \u001b[39mif\u001b[39;00m noise_kwargs \u001b[39mis\u001b[39;00m \u001b[39mNone\u001b[39;00m \u001b[39melse\u001b[39;00m noise_kwargs\n\u001b[0;32m--> 201\u001b[0m fetcher \u001b[39m=\u001b[39m DataFetcher\u001b[39m.\u001b[39;49msetup(\n\u001b[1;32m    202\u001b[0m     dataset_name\u001b[39m=\u001b[39;49mdataset_name,\n\u001b[1;32m    203\u001b[0m     cache_dir\u001b[39m=\u001b[39;49mcache_dir,\n\u001b[1;32m    204\u001b[0m     force_download\u001b[39m=\u001b[39;49mforce_download,\n\u001b[1;32m    205\u001b[0m     random_state\u001b[39m=\u001b[39;49mrandom_state,\n\u001b[1;32m    206\u001b[0m     train_count\u001b[39m=\u001b[39;49mtrain_count,\n\u001b[1;32m    207\u001b[0m     valid_count\u001b[39m=\u001b[39;49mvalid_count,\n\u001b[1;32m    208\u001b[0m     test_count\u001b[39m=\u001b[39;49mtest_count,\n\u001b[1;32m    209\u001b[0m     add_noise\u001b[39m=\u001b[39;49madd_noise,\n\u001b[1;32m    210\u001b[0m     noise_kwargs\u001b[39m=\u001b[39;49mnoise_kwargs,\n\u001b[1;32m    211\u001b[0m )\n\u001b[1;32m    213\u001b[0m pred_model \u001b[39m=\u001b[39m ModelFactory(\n\u001b[1;32m    214\u001b[0m     model_name\u001b[39m=\u001b[39mmodel_name,\n\u001b[1;32m    215\u001b[0m     fetcher\u001b[39m=\u001b[39mfetcher,\n\u001b[1;32m    216\u001b[0m     device\u001b[39m=\u001b[39mdevice,\n\u001b[1;32m    217\u001b[0m )\n\u001b[1;32m    219\u001b[0m \u001b[39m# Prints base line performance\u001b[39;00m\n",
      "File \u001b[0;32m~/stack/computer-science-delft/master-ai-thesis/opendataval/opendataval/dataloader/fetcher.py:154\u001b[0m, in \u001b[0;36mDataFetcher.setup\u001b[0;34m(cls, dataset_name, cache_dir, force_download, random_state, train_count, valid_count, test_count, add_noise, noise_kwargs)\u001b[0m\n\u001b[1;32m    151\u001b[0m split_types \u001b[39m=\u001b[39m (\u001b[39mtype\u001b[39m(train_count), \u001b[39mtype\u001b[39m(valid_count), \u001b[39mtype\u001b[39m(test_count))\n\u001b[1;32m    152\u001b[0m \u001b[39mif\u001b[39;00m split_types \u001b[39m==\u001b[39m (\u001b[39mint\u001b[39m, \u001b[39mint\u001b[39m, \u001b[39mint\u001b[39m):\n\u001b[1;32m    153\u001b[0m     \u001b[39mreturn\u001b[39;00m (\n\u001b[0;32m--> 154\u001b[0m         \u001b[39mcls\u001b[39;49m(dataset_name, cache_dir, force_download, random_state)\n\u001b[1;32m    155\u001b[0m         \u001b[39m.\u001b[39msplit_dataset_by_count(train_count, valid_count, test_count)\n\u001b[1;32m    156\u001b[0m         \u001b[39m.\u001b[39mnoisify(add_noise, \u001b[39m*\u001b[39m\u001b[39m*\u001b[39mnoise_kwargs)\n\u001b[1;32m    157\u001b[0m     )\n\u001b[1;32m    158\u001b[0m \u001b[39melif\u001b[39;00m split_types \u001b[39m==\u001b[39m (\u001b[39mfloat\u001b[39m, \u001b[39mfloat\u001b[39m, \u001b[39mfloat\u001b[39m):\n\u001b[1;32m    159\u001b[0m     \u001b[39mreturn\u001b[39;00m (\n\u001b[1;32m    160\u001b[0m         \u001b[39mcls\u001b[39m(dataset_name, cache_dir, force_download, random_state)\n\u001b[1;32m    161\u001b[0m         \u001b[39m.\u001b[39msplit_dataset_by_prop(train_count, valid_count, test_count)\n\u001b[1;32m    162\u001b[0m         \u001b[39m.\u001b[39mnoisify(add_noise, \u001b[39m*\u001b[39m\u001b[39m*\u001b[39mnoise_kwargs)\n\u001b[1;32m    163\u001b[0m     )\n",
      "File \u001b[0;32m~/stack/computer-science-delft/master-ai-thesis/opendataval/opendataval/dataloader/fetcher.py:95\u001b[0m, in \u001b[0;36mDataFetcher.__init__\u001b[0;34m(self, dataset_name, cache_dir, force_download, random_state)\u001b[0m\n\u001b[1;32m     92\u001b[0m     \u001b[39mself\u001b[39m\u001b[39m.\u001b[39m_presplit_data(\n\u001b[1;32m     93\u001b[0m         \u001b[39m*\u001b[39m\u001b[39mself\u001b[39m\u001b[39m.\u001b[39mdataset\u001b[39m.\u001b[39mload_data(cache_dir, force_download))\n\u001b[1;32m     94\u001b[0m \u001b[39melse\u001b[39;00m:\n\u001b[0;32m---> 95\u001b[0m     \u001b[39mself\u001b[39m\u001b[39m.\u001b[39m_add_data(\u001b[39m*\u001b[39m\u001b[39mself\u001b[39;49m\u001b[39m.\u001b[39;49mdataset\u001b[39m.\u001b[39;49mload_data(cache_dir, force_download))\n\u001b[1;32m     97\u001b[0m \u001b[39mself\u001b[39m\u001b[39m.\u001b[39mrandom_state \u001b[39m=\u001b[39m check_random_state(random_state)\n",
      "File \u001b[0;32m~/stack/computer-science-delft/master-ai-thesis/opendataval/opendataval/dataloader/register.py:247\u001b[0m, in \u001b[0;36mRegister.load_data\u001b[0;34m(self, cache_dir, force_download)\u001b[0m\n\u001b[1;32m    244\u001b[0m     dataset_kwargs[\u001b[39m\"\u001b[39m\u001b[39mforce_download\u001b[39m\u001b[39m\"\u001b[39m] \u001b[39m=\u001b[39m force_download\n\u001b[1;32m    246\u001b[0m \u001b[39mif\u001b[39;00m \u001b[39mhasattr\u001b[39m(\u001b[39mself\u001b[39m, \u001b[39m\"\u001b[39m\u001b[39mcovar_label_func\u001b[39m\u001b[39m\"\u001b[39m):\n\u001b[0;32m--> 247\u001b[0m     covar, label \u001b[39m=\u001b[39m \u001b[39mself\u001b[39;49m\u001b[39m.\u001b[39;49mcovar_label_func(\u001b[39m*\u001b[39;49m\u001b[39m*\u001b[39;49mdataset_kwargs)\n\u001b[1;32m    248\u001b[0m \u001b[39melse\u001b[39;00m:\n\u001b[1;32m    249\u001b[0m     covar \u001b[39m=\u001b[39m \u001b[39mself\u001b[39m\u001b[39m.\u001b[39mcov_func(\u001b[39m*\u001b[39m\u001b[39m*\u001b[39mdataset_kwargs)\n",
      "File \u001b[0;32m~/stack/computer-science-delft/master-ai-thesis/opendataval/opendataval/dataloader/datasets/nlpsets.py:53\u001b[0m, in \u001b[0;36mBertEmbeddings.<locals>.wrapper\u001b[0;34m(cache_dir, force_download, *args, **kwargs)\u001b[0m\n\u001b[1;32m     50\u001b[0m embed_file_name \u001b[39m=\u001b[39m \u001b[39mf\u001b[39m\u001b[39m\"\u001b[39m\u001b[39m{\u001b[39;00mfunc\u001b[39m.\u001b[39m\u001b[39m__name__\u001b[39m\u001b[39m}\u001b[39;00m\u001b[39m_\u001b[39m\u001b[39m{\u001b[39;00mMAX_DATASET_SIZE\u001b[39m}\u001b[39;00m\u001b[39m_embed.pt\u001b[39m\u001b[39m\"\u001b[39m\n\u001b[1;32m     51\u001b[0m embed_path \u001b[39m=\u001b[39m cache_dir \u001b[39m/\u001b[39m embed_file_name\n\u001b[0;32m---> 53\u001b[0m dataset, labels \u001b[39m=\u001b[39m func(cache_dir, force_download, \u001b[39m*\u001b[39;49margs, \u001b[39m*\u001b[39;49m\u001b[39m*\u001b[39;49mkwargs)\n\u001b[1;32m     54\u001b[0m subset \u001b[39m=\u001b[39m np\u001b[39m.\u001b[39mrandom\u001b[39m.\u001b[39mRandomState(\u001b[39m10\u001b[39m)\u001b[39m.\u001b[39mpermutation(\u001b[39mlen\u001b[39m(dataset))\n\u001b[1;32m     56\u001b[0m \u001b[39mif\u001b[39;00m embed_path\u001b[39m.\u001b[39mexists():\n",
      "File \u001b[0;32m~/stack/computer-science-delft/master-ai-thesis/opendataval/opendataval/dataloader/datasets/nlpsets.py:148\u001b[0m, in \u001b[0;36mdownload_imdb\u001b[0;34m(cache_dir, force_download)\u001b[0m\n\u001b[1;32m    143\u001b[0m github_url \u001b[39m=\u001b[39m (\n\u001b[1;32m    144\u001b[0m     \u001b[39m\"\u001b[39m\u001b[39mhttps://raw.githubusercontent.com/\u001b[39m\u001b[39m\"\u001b[39m\n\u001b[1;32m    145\u001b[0m     \u001b[39m\"\u001b[39m\u001b[39mAnkit152/IMDB-sentiment-analysis/master/IMDB-Dataset.csv\u001b[39m\u001b[39m\"\u001b[39m\n\u001b[1;32m    146\u001b[0m )\n\u001b[1;32m    147\u001b[0m filepath \u001b[39m=\u001b[39m cache(github_url, cache_dir, \u001b[39m\"\u001b[39m\u001b[39mimdb.csv\u001b[39m\u001b[39m\"\u001b[39m, force_download)\n\u001b[0;32m--> 148\u001b[0m df \u001b[39m=\u001b[39m pd\u001b[39m.\u001b[39;49mread_csv(filepath)\n\u001b[1;32m    150\u001b[0m label_dict \u001b[39m=\u001b[39m {\u001b[39m\"\u001b[39m\u001b[39mnegative\u001b[39m\u001b[39m\"\u001b[39m: \u001b[39m0\u001b[39m, \u001b[39m\"\u001b[39m\u001b[39mpositive\u001b[39m\u001b[39m\"\u001b[39m: \u001b[39m1\u001b[39m}\n\u001b[1;32m    151\u001b[0m labels \u001b[39m=\u001b[39m np\u001b[39m.\u001b[39mfromiter((label_dict[label]\n\u001b[1;32m    152\u001b[0m                      \u001b[39mfor\u001b[39;00m label \u001b[39min\u001b[39;00m df[\u001b[39m\"\u001b[39m\u001b[39msentiment\u001b[39m\u001b[39m\"\u001b[39m]), dtype\u001b[39m=\u001b[39m\u001b[39mint\u001b[39m)\n",
      "File \u001b[0;32m~/opt/anaconda3/envs/opendataval/lib/python3.9/site-packages/pandas/io/parsers/readers.py:948\u001b[0m, in \u001b[0;36mread_csv\u001b[0;34m(filepath_or_buffer, sep, delimiter, header, names, index_col, usecols, dtype, engine, converters, true_values, false_values, skipinitialspace, skiprows, skipfooter, nrows, na_values, keep_default_na, na_filter, verbose, skip_blank_lines, parse_dates, infer_datetime_format, keep_date_col, date_parser, date_format, dayfirst, cache_dates, iterator, chunksize, compression, thousands, decimal, lineterminator, quotechar, quoting, doublequote, escapechar, comment, encoding, encoding_errors, dialect, on_bad_lines, delim_whitespace, low_memory, memory_map, float_precision, storage_options, dtype_backend)\u001b[0m\n\u001b[1;32m    935\u001b[0m kwds_defaults \u001b[39m=\u001b[39m _refine_defaults_read(\n\u001b[1;32m    936\u001b[0m     dialect,\n\u001b[1;32m    937\u001b[0m     delimiter,\n\u001b[0;32m   (...)\u001b[0m\n\u001b[1;32m    944\u001b[0m     dtype_backend\u001b[39m=\u001b[39mdtype_backend,\n\u001b[1;32m    945\u001b[0m )\n\u001b[1;32m    946\u001b[0m kwds\u001b[39m.\u001b[39mupdate(kwds_defaults)\n\u001b[0;32m--> 948\u001b[0m \u001b[39mreturn\u001b[39;00m _read(filepath_or_buffer, kwds)\n",
      "File \u001b[0;32m~/opt/anaconda3/envs/opendataval/lib/python3.9/site-packages/pandas/io/parsers/readers.py:611\u001b[0m, in \u001b[0;36m_read\u001b[0;34m(filepath_or_buffer, kwds)\u001b[0m\n\u001b[1;32m    608\u001b[0m _validate_names(kwds\u001b[39m.\u001b[39mget(\u001b[39m\"\u001b[39m\u001b[39mnames\u001b[39m\u001b[39m\"\u001b[39m, \u001b[39mNone\u001b[39;00m))\n\u001b[1;32m    610\u001b[0m \u001b[39m# Create the parser.\u001b[39;00m\n\u001b[0;32m--> 611\u001b[0m parser \u001b[39m=\u001b[39m TextFileReader(filepath_or_buffer, \u001b[39m*\u001b[39;49m\u001b[39m*\u001b[39;49mkwds)\n\u001b[1;32m    613\u001b[0m \u001b[39mif\u001b[39;00m chunksize \u001b[39mor\u001b[39;00m iterator:\n\u001b[1;32m    614\u001b[0m     \u001b[39mreturn\u001b[39;00m parser\n",
      "File \u001b[0;32m~/opt/anaconda3/envs/opendataval/lib/python3.9/site-packages/pandas/io/parsers/readers.py:1448\u001b[0m, in \u001b[0;36mTextFileReader.__init__\u001b[0;34m(self, f, engine, **kwds)\u001b[0m\n\u001b[1;32m   1445\u001b[0m     \u001b[39mself\u001b[39m\u001b[39m.\u001b[39moptions[\u001b[39m\"\u001b[39m\u001b[39mhas_index_names\u001b[39m\u001b[39m\"\u001b[39m] \u001b[39m=\u001b[39m kwds[\u001b[39m\"\u001b[39m\u001b[39mhas_index_names\u001b[39m\u001b[39m\"\u001b[39m]\n\u001b[1;32m   1447\u001b[0m \u001b[39mself\u001b[39m\u001b[39m.\u001b[39mhandles: IOHandles \u001b[39m|\u001b[39m \u001b[39mNone\u001b[39;00m \u001b[39m=\u001b[39m \u001b[39mNone\u001b[39;00m\n\u001b[0;32m-> 1448\u001b[0m \u001b[39mself\u001b[39m\u001b[39m.\u001b[39m_engine \u001b[39m=\u001b[39m \u001b[39mself\u001b[39;49m\u001b[39m.\u001b[39;49m_make_engine(f, \u001b[39mself\u001b[39;49m\u001b[39m.\u001b[39;49mengine)\n",
      "File \u001b[0;32m~/opt/anaconda3/envs/opendataval/lib/python3.9/site-packages/pandas/io/parsers/readers.py:1723\u001b[0m, in \u001b[0;36mTextFileReader._make_engine\u001b[0;34m(self, f, engine)\u001b[0m\n\u001b[1;32m   1720\u001b[0m     \u001b[39mraise\u001b[39;00m \u001b[39mValueError\u001b[39;00m(msg)\n\u001b[1;32m   1722\u001b[0m \u001b[39mtry\u001b[39;00m:\n\u001b[0;32m-> 1723\u001b[0m     \u001b[39mreturn\u001b[39;00m mapping[engine](f, \u001b[39m*\u001b[39;49m\u001b[39m*\u001b[39;49m\u001b[39mself\u001b[39;49m\u001b[39m.\u001b[39;49moptions)\n\u001b[1;32m   1724\u001b[0m \u001b[39mexcept\u001b[39;00m \u001b[39mException\u001b[39;00m:\n\u001b[1;32m   1725\u001b[0m     \u001b[39mif\u001b[39;00m \u001b[39mself\u001b[39m\u001b[39m.\u001b[39mhandles \u001b[39mis\u001b[39;00m \u001b[39mnot\u001b[39;00m \u001b[39mNone\u001b[39;00m:\n",
      "File \u001b[0;32m~/opt/anaconda3/envs/opendataval/lib/python3.9/site-packages/pandas/io/parsers/c_parser_wrapper.py:93\u001b[0m, in \u001b[0;36mCParserWrapper.__init__\u001b[0;34m(self, src, **kwds)\u001b[0m\n\u001b[1;32m     90\u001b[0m \u001b[39mif\u001b[39;00m kwds[\u001b[39m\"\u001b[39m\u001b[39mdtype_backend\u001b[39m\u001b[39m\"\u001b[39m] \u001b[39m==\u001b[39m \u001b[39m\"\u001b[39m\u001b[39mpyarrow\u001b[39m\u001b[39m\"\u001b[39m:\n\u001b[1;32m     91\u001b[0m     \u001b[39m# Fail here loudly instead of in cython after reading\u001b[39;00m\n\u001b[1;32m     92\u001b[0m     import_optional_dependency(\u001b[39m\"\u001b[39m\u001b[39mpyarrow\u001b[39m\u001b[39m\"\u001b[39m)\n\u001b[0;32m---> 93\u001b[0m \u001b[39mself\u001b[39m\u001b[39m.\u001b[39m_reader \u001b[39m=\u001b[39m parsers\u001b[39m.\u001b[39;49mTextReader(src, \u001b[39m*\u001b[39;49m\u001b[39m*\u001b[39;49mkwds)\n\u001b[1;32m     95\u001b[0m \u001b[39mself\u001b[39m\u001b[39m.\u001b[39munnamed_cols \u001b[39m=\u001b[39m \u001b[39mself\u001b[39m\u001b[39m.\u001b[39m_reader\u001b[39m.\u001b[39munnamed_cols\n\u001b[1;32m     97\u001b[0m \u001b[39m# error: Cannot determine type of 'names'\u001b[39;00m\n",
      "File \u001b[0;32mparsers.pyx:586\u001b[0m, in \u001b[0;36mpandas._libs.parsers.TextReader.__cinit__\u001b[0;34m()\u001b[0m\n",
      "\u001b[0;31mEmptyDataError\u001b[0m: No columns to parse from file"
     ]
    }
   ],
   "source": [
    "dataset_name = \"imdb-embeddings\" \n",
    "train_count, valid_count, test_count = 1000, 100, 500\n",
    "noise_rate = 0.1\n",
    "noise_kwargs = {'noise_rate': noise_rate}\n",
    "model_name = \"LogisticRegression\" # will train a logistic regression model built with PyTorch\n",
    "metric_name = \"accuracy\"\n",
    "train_kwargs = {\"epochs\": 3, \"batch_size\": 100, \"lr\": 0.01}\n",
    "\n",
    "if(torch.cuda.is_available()):\n",
    "    device = torch.device('cuda')\n",
    "else:\n",
    "    device = torch.device(\"cpu\")\n",
    "\n",
    "cache_dir = \"./opendataval/data_files\"\n",
    "\n",
    "if not os.path.exists(cache_dir):\n",
    "    print(\"path did not exist. Creating path.\")\n",
    "    os.makedirs(cache_dir)\n",
    "else: \n",
    "    print(\"path exists\")\n",
    "\n",
    "# feature extraction is performed when the following code is executed. (cpu takes 10-ish mins)\n",
    "exper_med = ExperimentMediator.model_factory_setup(\n",
    "    dataset_name=dataset_name,\n",
    "    cache_dir=cache_dir,  \n",
    "    force_download=False,\n",
    "    train_count=train_count,\n",
    "    valid_count=valid_count,\n",
    "    test_count=test_count,\n",
    "    add_noise=mix_labels,\n",
    "    noise_kwargs=noise_kwargs,\n",
    "    train_kwargs=train_kwargs,\n",
    "    device=device,\n",
    "    model_name=model_name,\n",
    "    metric_name=metric_name\n",
    ")\n",
    "\n",
    "print(\"End of experiment\" )\n"
   ]
  },
  {
   "cell_type": "code",
   "execution_count": null,
   "metadata": {},
   "outputs": [],
   "source": [
    "print(\"input dataset shape\", train_count)"
   ]
  },
  {
   "cell_type": "markdown",
   "metadata": {},
   "source": [
    "## [Step 2] Compute data values\n",
    "`opendataval` provides various state-of-the-art data valuation algorithms. `ExperimentMediator.compute_data_values()` computes data values."
   ]
  },
  {
   "cell_type": "code",
   "execution_count": 5,
   "metadata": {},
   "outputs": [
    {
     "data": {
      "text/plain": [
       "14"
      ]
     },
     "execution_count": 5,
     "metadata": {},
     "output_type": "execute_result"
    }
   ],
   "source": [
    "round(14.5)"
   ]
  },
  {
   "cell_type": "code",
   "execution_count": null,
   "metadata": {},
   "outputs": [],
   "source": [
    "data_evaluators = [ \n",
    "    # I was only interest in DVRL and DataOob. (dont know DataOob)\n",
    "    # RandomEvaluator(),\n",
    "    # LeaveOneOut(), # leave one out\n",
    "    # InfluenceSubsample(num_models=1000), # influence function\n",
    "    DVRL(rl_epochs=2000), # Data valuation using Reinforcement Learning\n",
    "#     KNNShapley(k_neighbors=valid_count), # KNN-Shapley\n",
    "# #     DataShapley(gr_threshold=1.05, mc_epochs=300, cache_name=f\"cached\"), # Data-Shapley ## slow\n",
    "# #     BetaShapley(gr_threshold=1.05, mc_epochs=300, cache_name=f\"cached\"), # Beta-Shapley ## slow\n",
    "#     DataBanzhaf(num_models=1000), # Data-Banzhaf\n",
    "#     AME(num_models=1000), # Average Marginal Effects\n",
    "#     DataOob(num_models=1000), # Data-OOB\n",
    "#     LavaEvaluator(),\n",
    "# #     RobustVolumeShapley(mc_epochs=300)\n",
    "]"
   ]
  },
  {
   "cell_type": "code",
   "execution_count": null,
   "metadata": {},
   "outputs": [],
   "source": [
    "%%time\n",
    "# compute data values.\n",
    "exper_med = exper_med.compute_data_values(data_evaluators=data_evaluators)"
   ]
  },
  {
   "cell_type": "code",
   "execution_count": null,
   "metadata": {},
   "outputs": [],
   "source": [
    "# Access the data values from the first data evaluator, in this case the DVRL evaluator.\n",
    "datavalues_dvrl: np.ndarray = exper_med.data_evaluators[0].data_values\n",
    "\n",
    "print(datavalues_dvrl)\n",
    "print(datavalues_dvrl.shape)"
   ]
  },
  {
   "cell_type": "code",
   "execution_count": null,
   "metadata": {},
   "outputs": [],
   "source": [
    "import numpy as np\n",
    "datavalues_dvrl: np.ndarray[np.number] = np.array([0.5995511 , 0.59365904 ,0.6163888  ,0.59856176, 0.55743325 ,0.5558681,\n",
    " 0.5817305  ,0.5894123 , 0.57594204, 0.6071248,  0.5621358,  0.60004544,\n",
    " 0.6150715  ,0.57892126 ,0.56990063, 0.61490977, 0.5878263,  0.6045271,\n",
    " 0.5636136  ,0.60917836 ,0.61433035, 0.606938,   0.5881411,  0.6004063,\n",
    " 0.5939292  ,0.6137941 , 0.6009323,  0.56151426, 0.61163706, 0.59870356,\n",
    " 0.6023914  ,0.60524166 ,0.5906052,  0.5697923,  0.56575394, 0.59550756,\n",
    " 0.61272705 ,0.6040151 , 0.6083096,  0.57713914, 0.61223817, 0.61284786,\n",
    " 0.60041904 ,0.6103162 , 0.60828704, 0.60177106, 0.61639464, 0.5929547,\n",
    " 0.5863252  ,0.59751153 ,0.5714317,  0.59000635, 0.6106012,  0.597213,\n",
    " 0.5889834  ,0.6102271 , 0.5992824,  0.6004263,  0.6023552,  0.6012256,\n",
    " 0.6181688  ,0.6123019 , 0.6195049,  0.5832595,  0.5944202,  0.58236355,\n",
    " 0.5767292  ,0.6028191 , 0.6029001,  0.6128693,  0.58339894, 0.6105955,\n",
    " 0.5746654  ,0.60724646 ,0.6055338,  0.6024933,  0.5659472,  0.5876152,\n",
    " 0.5849097  ,0.5897223 , 0.5892453,  0.60365885, 0.6110801,  0.57030964,\n",
    " 0.60815644 ,0.6054038 , 0.61765975, 0.61591417, 0.59107685, 0.5888432,\n",
    " 0.6105814  ,0.6122788 , 0.59136766, 0.60219127, 0.5620155,  0.5996641,\n",
    " 0.59437567 ,0.57643276 ,0.58338577, 0.6159107,  0.6015903,  0.6016181,\n",
    " 0.5745569  ,0.6036759 , 0.6068341,  0.5785226,  0.6089526,  0.60377914,\n",
    " 0.5839505  ,0.6175175 , 0.56832063, 0.6116431,  0.5850689,  0.61100906,\n",
    " 0.58560956 ,0.58698916 ,0.6060585,  0.6018826,  0.57234204, 0.601276,\n",
    " 0.56626076 ,0.5990121 , 0.6030087,  0.5992629,  0.6064034,  0.60851365,\n",
    " 0.57965904 ,0.56847733 ,0.6180209,  0.58191615, 0.60667473, 0.5982788,\n",
    " 0.588867   ,0.6104516 , 0.61088,    0.612648,   0.5885209,  0.58017296,\n",
    " 0.60844827 ,0.6094694 , 0.5922366,  0.5755901,  0.5998879,  0.58862346,\n",
    " 0.61564875 ,0.61009365 ,0.6111985,  0.5928702,  0.60701495, 0.6040104,\n",
    " 0.59056556 ,0.56667256 ,0.5678932,  0.60914934, 0.5946091,  0.5946883,\n",
    " 0.6076026  ,0.59777623 ,0.56999284, 0.5999576,  0.5852136,  0.5752429,\n",
    " 0.60371685 ,0.5865247 , 0.6048209,  0.61022395, 0.61130685, 0.611919,\n",
    " 0.58521056 ,0.6029358 , 0.58075327, 0.61602795, 0.61066186, 0.59517676,\n",
    " 0.6089376  ,0.5575871 , 0.59505343, 0.5775998,  0.6090938,  0.60748065,\n",
    " 0.59747493 ,0.6115784 , 0.60873836, 0.6090285,  0.606821,   0.5991141,\n",
    " 0.61347866 ,0.6031861 , 0.6165133,  0.5970054,  0.6146555,  0.5757943,\n",
    " 0.6171595  ,0.61228764 ,0.5777836,  0.6082079,  0.60897696, 0.6095006,\n",
    " 0.6029595  ,0.5997408 , 0.6072902,  0.6131098,  0.6017295,  0.57814294,\n",
    " 0.58537954 ,0.5881429 , 0.605218,   0.59473586, 0.618561,   0.6068573,\n",
    " 0.5954388  ,0.5862026 , 0.5909871,  0.6113561,  0.59703803, 0.59082615,\n",
    " 0.6051683  ,0.61828774 ,0.6130621,  0.6143685,  0.58227044, 0.6099821,\n",
    " 0.60762113 ,0.58993274 ,0.58456236, 0.6168694,  0.6028784,  0.60962594,\n",
    " 0.58193165 ,0.61022186 ,0.5634346,  0.56477094, 0.60433847, 0.5950755,\n",
    " 0.6128651  ,0.6157119 , 0.6111587,  0.61826605, 0.61262727, 0.56869614,\n",
    " 0.6147855  ,0.6031128 , 0.5902454,  0.5921246,  0.60763407, 0.6048341,\n",
    " 0.6148305  ,0.59778047 ,0.58601594, 0.5992373,  0.6042495,  0.60562706,\n",
    " 0.614154   ,0.58001363 ,0.6053106,  0.6061314,  0.6123327,  0.58308846,\n",
    " 0.5759703  ,0.585846 ,  0.60259235, 0.5861489,  0.60907304, 0.5789813,\n",
    " 0.61304426 ,0.6152266 , 0.5937713,  0.56946754, 0.5604924,  0.5824438,\n",
    " 0.5832188  ,0.607978 ,  0.6149005,  0.61836743, 0.6148406,  0.56632286,\n",
    " 0.6016612  ,0.5724314 , 0.6073494,  0.61379063, 0.5996216,  0.60163164,\n",
    " 0.59465367 ,0.59796745 ,0.6107352,  0.5858895,  0.6010558,  0.6142084,\n",
    " 0.60890496 ,0.5871045 , 0.6056454,  0.6152362,  0.61445767, 0.6185321,\n",
    " 0.6113389  ,0.5719391 , 0.5768418,  0.60792017, 0.5690497,  0.6099964,\n",
    " 0.57480264 ,0.61646354 ,0.5849084,  0.58421725, 0.5693343,  0.60616356,\n",
    " 0.6102007  ,0.61481744 ,0.6191508,  0.6004878,  0.5979106,  0.5915618,\n",
    " 0.58218557 ,0.61707836 ,0.56076396, 0.5687261,  0.61783713, 0.567348,\n",
    " 0.60517615 ,0.6104255 , 0.6124691,  0.6146964,  0.60710764, 0.5888323,\n",
    " 0.5798449  ,0.5702582 , 0.60877764, 0.568069,   0.58886033, 0.6141454,\n",
    " 0.58538187 ,0.590022 ,  0.5663869,  0.5862441,  0.6174312,  0.60129315,\n",
    " 0.5758485  ,0.59857905 ,0.61384517, 0.6133276,  0.6156367,  0.61866903,\n",
    " 0.5957067  ,0.61076725 ,0.58889997, 0.6120681,  0.5855794,  0.6078128,\n",
    " 0.6094504  ,0.602445 ,  0.61262274, 0.5644553,  0.6112771,  0.5868211,\n",
    " 0.57655287 ,0.5627698 , 0.59609264, 0.59827,    0.57464314, 0.6090779,\n",
    " 0.6076346  ,0.614079 ,  0.5819455,  0.6096275,  0.5947992,  0.60818094,\n",
    " 0.6114395  ,0.6058881 , 0.5873123,  0.6106566,  0.559025,   0.5653391,\n",
    " 0.6115442  ,0.61646485 ,0.58561105, 0.60211134, 0.6104626,  0.6092862,\n",
    " 0.6043015  ,0.59420717 ,0.6065789,  0.59968436, 0.5864959,  0.6018031,\n",
    " 0.6097355  ,0.60472643 ,0.5934197,  0.60727596, 0.5767011,  0.6190701,\n",
    " 0.60773706 ,0.60668015 ,0.6156824,  0.6201953,  0.6006964,  0.594169,\n",
    " 0.61486644 ,0.6123716 , 0.6121047,  0.599957,   0.6039821,  0.6115233,\n",
    " 0.60904026 ,0.5575124 , 0.5860336,  0.59316,    0.6137186,  0.57222617,\n",
    " 0.57557595 ,0.60533816 ,0.6066916,  0.61054146, 0.57885206, 0.5928706,\n",
    " 0.59988177 ,0.56117487 ,0.6183491,  0.5770641,  0.60533845, 0.5809473,\n",
    " 0.57762915 ,0.573299 ,  0.5800554,  0.60536474, 0.57676405, 0.60599434,\n",
    " 0.58202815 ,0.5773572 , 0.56221306, 0.6018971,  0.60962284, 0.5764035,\n",
    " 0.5982217  ,0.60042894 ,0.60308576, 0.6083408,  0.60831165, 0.61860895,\n",
    " 0.60794854 ,0.60148895 ,0.6030789,  0.60386914, 0.58496386, 0.59765023,\n",
    " 0.61018705 ,0.5810064 , 0.6039437,  0.60255206, 0.5986552,  0.61064655,\n",
    " 0.58502096 ,0.5692517 , 0.5870947,  0.57747716, 0.61324143, 0.60909426,\n",
    " 0.6035489  ,0.59529495 ,0.59847635, 0.6167713,  0.60565835, 0.6005137,\n",
    " 0.57936305 ,0.58776534 ,0.5958499,  0.61560917, 0.58717215, 0.60575914,\n",
    " 0.56796    ,0.61007696 ,0.592615,   0.6143408,  0.60102105, 0.6170916,\n",
    " 0.5832776  ,0.599885 ,  0.6013982,  0.6034997,  0.5930741,  0.60867864,\n",
    " 0.5921311  ,0.5931683 , 0.61693686, 0.6034921,  0.598714,   0.610353,\n",
    " 0.6069598  ,0.59824985 ,0.5806986,  0.5785919,  0.618842,   0.5805031,\n",
    " 0.61663014 ,0.5958337 , 0.5840554,  0.61089396, 0.5733105,  0.578923,\n",
    " 0.6074848  ,0.5845907 , 0.59673315, 0.6112528,  0.57660425, 0.58944476,\n",
    " 0.608604   ,0.5571804 , 0.61323965, 0.6084136,  0.6027801,  0.60843986,\n",
    " 0.58796096 ,0.5991803 , 0.56653285, 0.60593486, 0.594229,   0.6033872,\n",
    " 0.60766536 ,0.5871835 , 0.6130358,  0.60901767, 0.5845986,  0.60751706,\n",
    " 0.60286134 ,0.5902319 , 0.5992308,  0.5966273,  0.5872263,  0.60684437,\n",
    " 0.6053196  ,0.58414817 ,0.6056355,  0.59772843, 0.59218377, 0.6079165,\n",
    " 0.6122326  ,0.6030316 , 0.60456866, 0.6030182,  0.6103629,  0.60894555,\n",
    " 0.6137376  ,0.59075993 ,0.6026799,  0.604488,   0.5659268,  0.612017,\n",
    " 0.5957614  ,0.59040105 ,0.60670245, 0.6182569,  0.6061592,  0.61476415,\n",
    " 0.5746276  ,0.5811184 , 0.592783,   0.5922162,  0.5927333,  0.59122807,\n",
    " 0.6151823  ,0.56818795 ,0.62024426, 0.6136728,  0.61559063, 0.6089478,\n",
    " 0.6006077  ,0.57380027 ,0.5909082,  0.59492755, 0.5841519,  0.56886715,\n",
    " 0.61426824 ,0.60647285 ,0.59643745, 0.6001093,  0.6119023,  0.56533056,\n",
    " 0.6134525  ,0.5676008 , 0.6109972,  0.59175926, 0.6084274,  0.58538204,\n",
    " 0.6025125  ,0.61625046 ,0.5789994,  0.5885919,  0.61418134, 0.60569036,\n",
    " 0.5827882  ,0.60297495 ,0.6082626,  0.6115755,  0.57089543, 0.60947657,\n",
    " 0.6108959  ,0.61238116 ,0.56449395, 0.57560647, 0.6128389,  0.5708055,\n",
    " 0.6156899  ,0.58781326 ,0.6178484,  0.60226816, 0.5758976,  0.57967114,\n",
    " 0.61772585 ,0.5897584 , 0.57462674, 0.59035575, 0.61594653, 0.6084025,\n",
    " 0.58991927 ,0.6009785 , 0.58823216, 0.5673219,  0.56341743, 0.6134315,\n",
    " 0.60422146 ,0.5865886 , 0.6183208,  0.57926786, 0.5854347,  0.5982313,\n",
    " 0.5942461  ,0.6014939 , 0.6103784,  0.6008184,  0.59115887, 0.5720915,\n",
    " 0.58804005 ,0.59944415 ,0.6013569,  0.6125389,  0.585648,   0.5598035,\n",
    " 0.59628695 ,0.59838456 ,0.61324894, 0.5738879,  0.6013927,  0.59659886,\n",
    " 0.5831252  ,0.5817636 , 0.61047393, 0.6155325,  0.60378295, 0.58437645,\n",
    " 0.61875004 ,0.5720668 , 0.60761255, 0.5811861,  0.61716837, 0.614669,\n",
    " 0.5931787  ,0.5912805 , 0.6032167,  0.60462534, 0.55837804, 0.5955698,\n",
    " 0.5561774  ,0.5993748 , 0.6134477,  0.5788353,  0.6150634,  0.60615945,\n",
    " 0.60868436 ,0.59200704 ,0.61877155, 0.59305924, 0.6000298,  0.6124661,\n",
    " 0.59695506 ,0.61081314 ,0.61701745, 0.5947357,  0.6073984,  0.6058545,\n",
    " 0.6120155  ,0.606541 ,  0.6179303,  0.60019505, 0.601464,   0.5957531,\n",
    " 0.59957504 ,0.6105797 , 0.5851096,  0.5823991,  0.6143296,  0.61171633,\n",
    " 0.57239753 ,0.5952511 , 0.5878052,  0.6051341,  0.60391855, 0.57363564,\n",
    " 0.6060084  ,0.61490667 ,0.5912979,  0.6148198,  0.5778422,  0.6076753,\n",
    " 0.56095606 ,0.5857052 , 0.5660099,  0.57882035, 0.5650768,  0.6138384,\n",
    " 0.60620886 ,0.59387875 ,0.60675156, 0.6041527,  0.6128951,  0.60362065,\n",
    " 0.60556704 ,0.6171252 , 0.6047812,  0.614092,   0.6148889,  0.57602406,\n",
    " 0.5864294  ,0.6084452 , 0.5868347,  0.5694563,  0.58996993, 0.5936313,\n",
    " 0.5946701  ,0.57324755 ,0.5983411,  0.593643,   0.5956339,  0.60379416,\n",
    " 0.5928039  ,0.59317154 ,0.60892236, 0.59158003, 0.6002833,  0.58826303,\n",
    " 0.59876645 ,0.59468526 ,0.6033953,  0.6062789,  0.60397494, 0.58416486,\n",
    " 0.6041725  ,0.5870536 , 0.6067658,  0.6088146,  0.5897347,  0.6066298,\n",
    " 0.58975387 ,0.60167956 ,0.5932522,  0.61295944, 0.61669916, 0.6123209,\n",
    " 0.59346354 ,0.5904399 , 0.5715806,  0.56033206, 0.58776796, 0.6082643,\n",
    " 0.60766643 ,0.6083661 , 0.61346483, 0.5549264,  0.6014185,  0.60970545,\n",
    " 0.58358735 ,0.6147984 , 0.6049178,  0.6078551,  0.5949994,  0.5757352,\n",
    " 0.6134681  ,0.6144974 , 0.6060091,  0.5806817,  0.5928554,  0.61263317,\n",
    " 0.6011344  ,0.55510795 ,0.6144386,  0.61579436, 0.6149435,  0.5770174,\n",
    " 0.61183226 ,0.58003753 ,0.57271254, 0.6021292,  0.61745536, 0.5999125,\n",
    " 0.6113846  ,0.5965699 , 0.60756177, 0.6129939,  0.6089056,  0.60869217,\n",
    " 0.60092974 ,0.6171597 , 0.5947439,  0.58689547, 0.5991316,  0.5858314,\n",
    " 0.6171498  ,0.6126557 , 0.6095806,  0.58282906, 0.6045487,  0.5866334,\n",
    " 0.57997376 ,0.5910311 , 0.6148314,  0.6130912,  0.6134748,  0.6071289,\n",
    " 0.60458565 ,0.56850016 ,0.6136504,  0.61361426, 0.61975974, 0.6061816,\n",
    " 0.6005176  ,0.59605926 ,0.60396165, 0.57252836, 0.59135276, 0.5931236,\n",
    " 0.5635345  ,0.5805482 , 0.5896643,  0.6029271,  0.61364454, 0.59832895,\n",
    " 0.61340153 ,0.5968622 , 0.615261,   0.5950108,  0.6145129,  0.6093852,\n",
    " 0.6152669  ,0.6214865 , 0.60977745, 0.56989354, 0.60582197, 0.6050288,\n",
    " 0.598368   ,0.5997819 , 0.5552986,  0.60901546, 0.6157927,  0.6007393,\n",
    " 0.595698   ,0.6025136 , 0.58851427, 0.61229926, 0.5860198,  0.5845609,\n",
    " 0.5797359  ,0.5987087 , 0.6154877,  0.5859198,  0.5687095,  0.5760131,\n",
    " 0.6062873  ,0.60810906 ,0.61230886, 0.61599493, 0.61165404, 0.60145056,\n",
    " 0.59838885 ,0.61258805 ,0.59751004, 0.6024676,  0.5778921,  0.5813314,\n",
    " 0.60138106 ,0.61470795 ,0.5733255,  0.6170512,  0.5919527,  0.5795684,\n",
    " 0.59751683 ,0.59771883 ,0.5926288,  0.5950853,  0.6088604,  0.5986151,\n",
    " 0.5983171  ,0.5924977 , 0.5765028,  0.6083718,  0.61454093, 0.5662008,\n",
    " 0.58866423 ,0.60150075 ,0.61308986, 0.5870398,  0.58870506, 0.6114639,\n",
    " 0.5934729  ,0.5894967 , 0.6128642,  0.6083618,  0.5909292,  0.6093706,\n",
    " 0.5890845  ,0.59285504 ,0.59436285, 0.6115418,  0.58170515, 0.59359473,\n",
    " 0.58466536 ,0.58088315 ,0.6021536,  0.6068281,  0.55799574, 0.5891216,\n",
    " 0.61175245 ,0.59107083 ,0.60638756, 0.60808086, 0.5907442,  0.6070102,\n",
    " 0.6117878  ,0.5859929 , 0.61593217, 0.5654242,  0.5605126,  0.61116445,\n",
    " 0.61054426 ,0.6143442 , 0.585245,   0.59982616, 0.58304095, 0.6077946,\n",
    " 0.6066759  ,0.5874207 , 0.61347896, 0.6153408,  0.57507384, 0.5774407,\n",
    " 0.5760497  ,0.6151891 , 0.60113895, 0.5820706,  0.5658973,  0.60512847,\n",
    " 0.5818855  ,0.5965603 , 0.5917102,  0.6120482,  0.58565545, 0.56807745,\n",
    " 0.61123806 ,0.62173384 ,0.6012265,  0.57755196, 0.61218375, 0.57785004,\n",
    " 0.62106514 ,0.5670819 , 0.5943173,  0.57689375, 0.5761704,  0.57426584,\n",
    " 0.5848983  ,0.6086978 , 0.58248544, 0.60422003, 0.57075006, 0.55861145,\n",
    " 0.5840061  ,0.58344024 ,0.5823401,  0.6103447,  0.60451144, 0.6148856,\n",
    " 0.5917551  ,0.56934506 ,0.6143624,  0.5933654,  0.604321,   0.59926754,\n",
    " 0.6163861  ,0.6043769 , 0.606969,   0.6027875,  0.5596983,  0.6109047,\n",
    " 0.5895371  ,0.5841833 , 0.5609412,  0.6168371,  0.5937213,  0.6101291,\n",
    " 0.5929998  ,0.60687023 ,0.5977861,  0.58196485,])"
   ]
  },
  {
   "cell_type": "code",
   "execution_count": null,
   "metadata": {},
   "outputs": [],
   "source": [
    "print(f\"max={datavalues_dvrl.max()}, min={datavalues_dvrl.min()}\")\n",
    "print(f\"mean={datavalues_dvrl.mean()}, std={datavalues_dvrl.std()}\")\n",
    "print(f\"median={np.median(datavalues_dvrl)}\")"
   ]
  },
  {
   "cell_type": "markdown",
   "metadata": {},
   "source": [
    "## [Step 3] Evaluate data values"
   ]
  },
  {
   "cell_type": "code",
   "execution_count": null,
   "metadata": {},
   "outputs": [],
   "source": [
    "from opendataval.experiment.exper_methods import (\n",
    "    discover_corrupted_sample,\n",
    "    noisy_detection,\n",
    "    remove_high_low,\n",
    "    save_dataval\n",
    ")\n",
    "from matplotlib import pyplot as plt\n",
    "\n",
    "# Saving the results\n",
    "output_dir = f\"./opendataval/experiment/tmp/{dataset_name}_{noise_rate=}/\"\n",
    "if not os.path.isdir(output_dir):\n",
    "    print(\"path does not exist.\")\n",
    "    os.makedirs(output_dir)\n",
    "    print(\"created a new path: \", output_dir)\n",
    "else:\n",
    "    print(\"path already exists\")\n",
    "\n",
    "exper_med.set_output_directory(output_dir)\n",
    "output_dir"
   ]
  },
  {
   "cell_type": "markdown",
   "metadata": {},
   "source": [
    "### Noisy data detection \n",
    "- `noisy_detection` performs the noisy data detection task and evaluates the F1-score of each data valuation algorithm's prediction. The higher, the better.  \n",
    "  - noisy data: mislabeled data"
   ]
  },
  {
   "cell_type": "code",
   "execution_count": null,
   "metadata": {},
   "outputs": [],
   "source": [
    "datavalues = exper_med.evaluate(noisy_detection, save_output=True)\n",
    "datavalues"
   ]
  },
  {
   "cell_type": "markdown",
   "metadata": {},
   "source": [
    "### Discover noisy samples\n",
    "- `discover_corrupted_sample` visualizes how well noisy data points are identified when a fraction of dataset is inspected. "
   ]
  },
  {
   "cell_type": "code",
   "execution_count": null,
   "metadata": {
    "scrolled": false
   },
   "outputs": [],
   "source": [
    "fig = plt.figure(figsize=(15, 25))\n",
    "_, fig = exper_med.plot(discover_corrupted_sample, fig, col=2, save_output=True)"
   ]
  },
  {
   "cell_type": "markdown",
   "metadata": {},
   "source": [
    "### Point removal experiment\n",
    "- `remove_high_low` performs the point removal experiment. Each data valution algorithm, it provides two curves: one is removing data in a descending order (orange), the other is in an ascending order (blue). As for the orange (resp. blue) curve, the lower (resp. upper), the better. "
   ]
  },
  {
   "cell_type": "code",
   "execution_count": null,
   "metadata": {},
   "outputs": [],
   "source": [
    "fig = plt.figure(figsize=(15, 25))\n",
    "df_resp, fig = exper_med.plot(remove_high_low, fig, col=2, save_output=True)"
   ]
  },
  {
   "cell_type": "code",
   "execution_count": null,
   "metadata": {},
   "outputs": [],
   "source": [
    "df_resp # it provides complete information for generating point-removal experiment figures."
   ]
  },
  {
   "cell_type": "markdown",
   "metadata": {},
   "source": [
    "### Save data values\n",
    "- `save_dataval` stores computed data values at `{output_dir}/save_dataval.csv`."
   ]
  },
  {
   "cell_type": "code",
   "execution_count": null,
   "metadata": {},
   "outputs": [],
   "source": [
    "exper_med.evaluate(save_dataval, save_output=True)"
   ]
  },
  {
   "cell_type": "code",
   "execution_count": null,
   "metadata": {},
   "outputs": [],
   "source": []
  },
  {
   "cell_type": "code",
   "execution_count": null,
   "metadata": {},
   "outputs": [],
   "source": []
  },
  {
   "cell_type": "code",
   "execution_count": null,
   "metadata": {},
   "outputs": [],
   "source": []
  }
 ],
 "metadata": {
  "kernelspec": {
   "display_name": "Python 3 (ipykernel)",
   "language": "python",
   "name": "python3"
  },
  "language_info": {
   "codemirror_mode": {
    "name": "ipython",
    "version": 3
   },
   "file_extension": ".py",
   "mimetype": "text/x-python",
   "name": "python",
   "nbconvert_exporter": "python",
   "pygments_lexer": "ipython3",
   "version": "3.9.0"
  }
 },
 "nbformat": 4,
 "nbformat_minor": 2
}
